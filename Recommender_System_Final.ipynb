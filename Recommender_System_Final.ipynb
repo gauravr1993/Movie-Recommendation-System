{
 "cells": [
  {
   "cell_type": "code",
   "execution_count": 1,
   "metadata": {},
   "outputs": [],
   "source": [
    "import pandas as pd\n",
    "import numpy as np\n",
    "import ast\n",
    "import warnings\n",
    "import pickle\n",
    "import torch \n",
    "warnings.filterwarnings('ignore')\n",
    "# pd.set_option('display.max_colwidth', None)"
   ]
  },
  {
   "cell_type": "code",
   "execution_count": 2,
   "metadata": {
    "editable": true,
    "slideshow": {
     "slide_type": ""
    },
    "tags": []
   },
   "outputs": [],
   "source": [
    "#Imports\n",
    "links_small = pd.read_csv('dataset/links_small.csv')\n",
    "all_movies = pd.read_csv('dataset/movies_metadata.csv')\n",
    "keywords = pd.read_csv('dataset/keywords.csv')\n",
    "credits = pd.read_csv('dataset/credits.csv')"
   ]
  },
  {
   "cell_type": "code",
   "execution_count": 3,
   "metadata": {},
   "outputs": [
    {
     "name": "stdout",
     "output_type": "stream",
     "text": [
      "John Matrix, the former leader of a special commando strike force that always got the toughest jobs done, is forced back into action when his young daughter is kidnapped. To find her, Matrix has to fight his way through an array of punks, killers, one of his former commandos, and a fully equipped private army. With the help of a feisty stewardess and an old friend, Matrix has only a few hours to overcome his greatest challenge: finding his daughter before she's killed.\n"
     ]
    }
   ],
   "source": [
    "print(all_movies[all_movies['title'] == 'Commando']['overview'].values[0])"
   ]
  },
  {
   "cell_type": "code",
   "execution_count": 4,
   "metadata": {},
   "outputs": [],
   "source": [
    "#Get the ID mappings\n",
    "tmdbId = links_small[links_small['tmdbId'].notnull()]['tmdbId'].astype('int')\n",
    "movieId = links_small[links_small['tmdbId'].notnull()]['movieId'].astype('int')"
   ]
  },
  {
   "cell_type": "code",
   "execution_count": 5,
   "metadata": {},
   "outputs": [],
   "source": [
    "all_movies['id'] = pd.to_numeric(all_movies['id'], errors='coerce')"
   ]
  },
  {
   "cell_type": "code",
   "execution_count": 6,
   "metadata": {},
   "outputs": [
    {
     "name": "stdout",
     "output_type": "stream",
     "text": [
      "(45466, 24)\n"
     ]
    }
   ],
   "source": [
    "print(all_movies.shape)"
   ]
  },
  {
   "cell_type": "code",
   "execution_count": 7,
   "metadata": {},
   "outputs": [],
   "source": [
    "all_movies = all_movies[all_movies.overview.notna()]"
   ]
  },
  {
   "cell_type": "code",
   "execution_count": 8,
   "metadata": {},
   "outputs": [],
   "source": [
    "all_movies = all_movies.query(\"overview != ['No overview found.','No movie overview available.','No Overview','No overview yet.', ' ']\")"
   ]
  },
  {
   "cell_type": "code",
   "execution_count": 9,
   "metadata": {},
   "outputs": [],
   "source": [
    "all_movies.dropna(subset='id', inplace=True)"
   ]
  },
  {
   "cell_type": "code",
   "execution_count": 10,
   "metadata": {},
   "outputs": [],
   "source": [
    "all_movies.drop_duplicates(subset=['overview'], inplace=True)\n",
    "all_movies.drop_duplicates(inplace=True)\n",
    "credits.drop_duplicates(inplace=True)\n",
    "keywords.drop_duplicates(inplace=True)"
   ]
  },
  {
   "cell_type": "code",
   "execution_count": 11,
   "metadata": {},
   "outputs": [],
   "source": [
    "keywords['id'] = keywords['id'].astype('int')\n",
    "credits['id'] = credits['id'].astype('int')\n",
    "all_movies['id'] = all_movies['id'].astype('int')"
   ]
  },
  {
   "cell_type": "code",
   "execution_count": 12,
   "metadata": {},
   "outputs": [],
   "source": [
    "all_movies = all_movies.merge(credits, on='id')\n",
    "all_movies = all_movies.merge(keywords, on='id')"
   ]
  },
  {
   "cell_type": "code",
   "execution_count": 13,
   "metadata": {},
   "outputs": [
    {
     "name": "stdout",
     "output_type": "stream",
     "text": [
      "(9066, 27)\n"
     ]
    }
   ],
   "source": [
    "movies_df = all_movies[all_movies['id'].isin(tmdbId)]\n",
    "movies_df = movies_df[movies_df.overview.notna()]\n",
    "print(movies_df.shape)"
   ]
  },
  {
   "cell_type": "code",
   "execution_count": 14,
   "metadata": {},
   "outputs": [],
   "source": [
    "movies_df.drop_duplicates(subset=['overview'], inplace=True)"
   ]
  },
  {
   "cell_type": "code",
   "execution_count": 15,
   "metadata": {},
   "outputs": [],
   "source": [
    "movies_df = movies_df[['id', 'title', 'keywords', 'genres', 'overview', 'cast', 'crew', 'poster_path']]"
   ]
  },
  {
   "cell_type": "code",
   "execution_count": 16,
   "metadata": {},
   "outputs": [],
   "source": [
    "#To Get the Genres and the keywords in List from Json Object\n",
    "def convert(text):\n",
    "    L = []\n",
    "    for i in ast.literal_eval(text):\n",
    "        L.append(i['name']) \n",
    "    return L"
   ]
  },
  {
   "cell_type": "code",
   "execution_count": 17,
   "metadata": {},
   "outputs": [],
   "source": [
    "movies_df['genres'] = movies_df['genres'].apply(convert)\n",
    "movies_df['keywords'] = movies_df['keywords'].apply(convert)"
   ]
  },
  {
   "cell_type": "code",
   "execution_count": 18,
   "metadata": {},
   "outputs": [],
   "source": [
    "#To get the top 3 Cast Members\n",
    "def getCast(text):\n",
    "    L = []\n",
    "    counter = 0\n",
    "    for i in ast.literal_eval(text):\n",
    "        if counter < 3:\n",
    "            L.append(i['name'])\n",
    "        counter+=1\n",
    "    return L "
   ]
  },
  {
   "cell_type": "code",
   "execution_count": 19,
   "metadata": {},
   "outputs": [],
   "source": [
    "movies_df['cast'] = movies_df['cast'].apply(getCast)"
   ]
  },
  {
   "cell_type": "code",
   "execution_count": 20,
   "metadata": {},
   "outputs": [],
   "source": [
    "#To get the Director's name\n",
    "def getDirector(text):\n",
    "    L = []\n",
    "    for i in ast.literal_eval(text):\n",
    "        if i['job'] == 'Director':\n",
    "            L.append(i['name'])\n",
    "    return L"
   ]
  },
  {
   "cell_type": "code",
   "execution_count": 21,
   "metadata": {},
   "outputs": [],
   "source": [
    "movies_df['director'] = movies_df['crew'].apply(getDirector)"
   ]
  },
  {
   "cell_type": "code",
   "execution_count": 22,
   "metadata": {},
   "outputs": [],
   "source": [
    "movies_df.drop(['crew'], axis=1, inplace=True)"
   ]
  },
  {
   "cell_type": "code",
   "execution_count": 23,
   "metadata": {},
   "outputs": [],
   "source": [
    "movies_df['keywords'] = movies_df['keywords'].apply(lambda x: [i.replace(\" \", \"\") for i in x])\n",
    "movies_df['genres'] = movies_df['genres'].apply(lambda x: [i.replace(\" \", \"\") for i in x])\n",
    "movies_df['cast'] = movies_df['cast'].apply(lambda x: [i.replace(\" \", \"\") for i in x])\n",
    "movies_df['director'] = movies_df['director'].apply(lambda x: [i.replace(\" \", \"\") for i in x])"
   ]
  },
  {
   "cell_type": "code",
   "execution_count": 24,
   "metadata": {},
   "outputs": [
    {
     "data": {
      "text/html": [
       "<div>\n",
       "<style scoped>\n",
       "    .dataframe tbody tr th:only-of-type {\n",
       "        vertical-align: middle;\n",
       "    }\n",
       "\n",
       "    .dataframe tbody tr th {\n",
       "        vertical-align: top;\n",
       "    }\n",
       "\n",
       "    .dataframe thead th {\n",
       "        text-align: right;\n",
       "    }\n",
       "</style>\n",
       "<table border=\"1\" class=\"dataframe\">\n",
       "  <thead>\n",
       "    <tr style=\"text-align: right;\">\n",
       "      <th></th>\n",
       "      <th>id</th>\n",
       "      <th>title</th>\n",
       "      <th>keywords</th>\n",
       "      <th>genres</th>\n",
       "      <th>overview</th>\n",
       "      <th>cast</th>\n",
       "      <th>poster_path</th>\n",
       "      <th>director</th>\n",
       "    </tr>\n",
       "  </thead>\n",
       "  <tbody>\n",
       "    <tr>\n",
       "      <th>0</th>\n",
       "      <td>862</td>\n",
       "      <td>Toy Story</td>\n",
       "      <td>[jealousy, toy, boy, friendship, friends, riva...</td>\n",
       "      <td>[Animation, Comedy, Family]</td>\n",
       "      <td>Led by Woody, Andy's toys live happily in his ...</td>\n",
       "      <td>[TomHanks, TimAllen, DonRickles]</td>\n",
       "      <td>/rhIRbceoE9lR4veEXuwCC2wARtG.jpg</td>\n",
       "      <td>[JohnLasseter]</td>\n",
       "    </tr>\n",
       "    <tr>\n",
       "      <th>1</th>\n",
       "      <td>8844</td>\n",
       "      <td>Jumanji</td>\n",
       "      <td>[boardgame, disappearance, basedonchildren'sbo...</td>\n",
       "      <td>[Adventure, Fantasy, Family]</td>\n",
       "      <td>When siblings Judy and Peter discover an encha...</td>\n",
       "      <td>[RobinWilliams, JonathanHyde, KirstenDunst]</td>\n",
       "      <td>/vzmL6fP7aPKNKPRTFnZmiUfciyV.jpg</td>\n",
       "      <td>[JoeJohnston]</td>\n",
       "    </tr>\n",
       "    <tr>\n",
       "      <th>2</th>\n",
       "      <td>15602</td>\n",
       "      <td>Grumpier Old Men</td>\n",
       "      <td>[fishing, bestfriend, duringcreditsstinger, ol...</td>\n",
       "      <td>[Romance, Comedy]</td>\n",
       "      <td>A family wedding reignites the ancient feud be...</td>\n",
       "      <td>[WalterMatthau, JackLemmon, Ann-Margret]</td>\n",
       "      <td>/6ksm1sjKMFLbO7UY2i6G1ju9SML.jpg</td>\n",
       "      <td>[HowardDeutch]</td>\n",
       "    </tr>\n",
       "    <tr>\n",
       "      <th>3</th>\n",
       "      <td>31357</td>\n",
       "      <td>Waiting to Exhale</td>\n",
       "      <td>[basedonnovel, interracialrelationship, single...</td>\n",
       "      <td>[Comedy, Drama, Romance]</td>\n",
       "      <td>Cheated on, mistreated and stepped on, the wom...</td>\n",
       "      <td>[WhitneyHouston, AngelaBassett, LorettaDevine]</td>\n",
       "      <td>/16XOMpEaLWkrcPqSQqhTmeJuqQl.jpg</td>\n",
       "      <td>[ForestWhitaker]</td>\n",
       "    </tr>\n",
       "    <tr>\n",
       "      <th>4</th>\n",
       "      <td>11862</td>\n",
       "      <td>Father of the Bride Part II</td>\n",
       "      <td>[baby, midlifecrisis, confidence, aging, daugh...</td>\n",
       "      <td>[Comedy]</td>\n",
       "      <td>Just when George Banks has recovered from his ...</td>\n",
       "      <td>[SteveMartin, DianeKeaton, MartinShort]</td>\n",
       "      <td>/e64sOI48hQXyru7naBFyssKFxVd.jpg</td>\n",
       "      <td>[CharlesShyer]</td>\n",
       "    </tr>\n",
       "  </tbody>\n",
       "</table>\n",
       "</div>"
      ],
      "text/plain": [
       "      id                        title  \\\n",
       "0    862                    Toy Story   \n",
       "1   8844                      Jumanji   \n",
       "2  15602             Grumpier Old Men   \n",
       "3  31357            Waiting to Exhale   \n",
       "4  11862  Father of the Bride Part II   \n",
       "\n",
       "                                            keywords  \\\n",
       "0  [jealousy, toy, boy, friendship, friends, riva...   \n",
       "1  [boardgame, disappearance, basedonchildren'sbo...   \n",
       "2  [fishing, bestfriend, duringcreditsstinger, ol...   \n",
       "3  [basedonnovel, interracialrelationship, single...   \n",
       "4  [baby, midlifecrisis, confidence, aging, daugh...   \n",
       "\n",
       "                         genres  \\\n",
       "0   [Animation, Comedy, Family]   \n",
       "1  [Adventure, Fantasy, Family]   \n",
       "2             [Romance, Comedy]   \n",
       "3      [Comedy, Drama, Romance]   \n",
       "4                      [Comedy]   \n",
       "\n",
       "                                            overview  \\\n",
       "0  Led by Woody, Andy's toys live happily in his ...   \n",
       "1  When siblings Judy and Peter discover an encha...   \n",
       "2  A family wedding reignites the ancient feud be...   \n",
       "3  Cheated on, mistreated and stepped on, the wom...   \n",
       "4  Just when George Banks has recovered from his ...   \n",
       "\n",
       "                                             cast  \\\n",
       "0                [TomHanks, TimAllen, DonRickles]   \n",
       "1     [RobinWilliams, JonathanHyde, KirstenDunst]   \n",
       "2        [WalterMatthau, JackLemmon, Ann-Margret]   \n",
       "3  [WhitneyHouston, AngelaBassett, LorettaDevine]   \n",
       "4         [SteveMartin, DianeKeaton, MartinShort]   \n",
       "\n",
       "                        poster_path          director  \n",
       "0  /rhIRbceoE9lR4veEXuwCC2wARtG.jpg    [JohnLasseter]  \n",
       "1  /vzmL6fP7aPKNKPRTFnZmiUfciyV.jpg     [JoeJohnston]  \n",
       "2  /6ksm1sjKMFLbO7UY2i6G1ju9SML.jpg    [HowardDeutch]  \n",
       "3  /16XOMpEaLWkrcPqSQqhTmeJuqQl.jpg  [ForestWhitaker]  \n",
       "4  /e64sOI48hQXyru7naBFyssKFxVd.jpg    [CharlesShyer]  "
      ]
     },
     "execution_count": 24,
     "metadata": {},
     "output_type": "execute_result"
    }
   ],
   "source": [
    "movies_df.head()"
   ]
  },
  {
   "cell_type": "markdown",
   "metadata": {},
   "source": [
    "## Popularity Based Recommender\n",
    "\n",
    "This Recommender offers generalized recommnendations to every user based on movie popularity and (sometimes) genre. The basic idea behind this recommender is that movies that are more popular and more critically acclaimed will have a higher probability of being liked by the average audience. This model does not give personalized recommendations based on the user.\n",
    "\n",
    "The implementation of this model is extremely trivial. All we have to do is sort our movies based on ratings and popularity and display the top movies of our list. As an added step, we can pass in a genre argument to get the top movies of a particular genre."
   ]
  },
  {
   "cell_type": "markdown",
   "metadata": {},
   "source": [
    "I use the TMDB Ratings to come up with our **Top Movies Chart.** I will use IMDB's *weighted rating* formula to construct my chart. Mathematically, it is represented as follows:\n",
    "\n",
    "Weighted Rating (WR) = $(\\frac{v}{v + m} . R) + (\\frac{m}{v + m} . C)$\n",
    "\n",
    "where,\n",
    "* *v* is the number of votes for the movie\n",
    "* *m* is the minimum votes required to be listed in the chart\n",
    "* *R* is the average rating of the movie\n",
    "* *C* is the mean vote across the whole report\n",
    "\n",
    "The next step is to determine an appropriate value for *m*, the minimum votes required to be listed in the chart. We will use **95th percentile** as our cutoff. In other words, for a movie to feature in the charts, it must have more votes than at least 95% of the movies in the list.\n",
    "\n",
    "I will build our overall Top 250 Chart and will define a function to build charts for a particular genre. Let's begin!"
   ]
  },
  {
   "cell_type": "code",
   "execution_count": 27,
   "metadata": {},
   "outputs": [],
   "source": [
    "mean_vote = all_movies[all_movies.vote_average.notnull()]['vote_average'].mean()\n",
    "\n",
    "minimum_votes = all_movies['vote_count'].quantile(0.95)"
   ]
  },
  {
   "cell_type": "code",
   "execution_count": 28,
   "metadata": {},
   "outputs": [],
   "source": [
    "all_movies['year'] = pd.to_datetime(all_movies['release_date'], errors='coerce').apply(lambda x: str(x).split('-')[0] if x != np.nan else np.nan)"
   ]
  },
  {
   "cell_type": "code",
   "execution_count": 29,
   "metadata": {},
   "outputs": [
    {
     "name": "stdout",
     "output_type": "stream",
     "text": [
      "(2217, 7)\n"
     ]
    }
   ],
   "source": [
    "qualified = all_movies[(all_movies['vote_count'] >= minimum_votes) & (all_movies['vote_count'].notnull()) & (all_movies['vote_average'].notnull())][['id','title', 'year', 'vote_count', 'vote_average', 'popularity', 'genres']]\n",
    "qualified['vote_count'] = qualified['vote_count'].astype('int')\n",
    "qualified['vote_average'] = qualified['vote_average'].astype('int')\n",
    "qualified['id'] = qualified['id'].astype('int')\n",
    "print(qualified.shape)"
   ]
  },
  {
   "cell_type": "code",
   "execution_count": 30,
   "metadata": {},
   "outputs": [],
   "source": [
    "def weighted_rating(x):\n",
    "    v = x['vote_count']\n",
    "    R = x['vote_average']\n",
    "    return (v/(v+minimum_votes) * R) + (minimum_votes/(minimum_votes+v) * mean_vote)\n",
    "\n",
    "qualified['wr'] = qualified.apply(weighted_rating, axis=1)\n",
    "\n",
    "qualified = qualified.sort_values('wr', ascending=False).head(250)"
   ]
  },
  {
   "cell_type": "code",
   "execution_count": 31,
   "metadata": {},
   "outputs": [],
   "source": [
    "top_movies=qualified.head(200)"
   ]
  },
  {
   "cell_type": "code",
   "execution_count": 32,
   "metadata": {
    "scrolled": true
   },
   "outputs": [
    {
     "data": {
      "text/html": [
       "<div>\n",
       "<style scoped>\n",
       "    .dataframe tbody tr th:only-of-type {\n",
       "        vertical-align: middle;\n",
       "    }\n",
       "\n",
       "    .dataframe tbody tr th {\n",
       "        vertical-align: top;\n",
       "    }\n",
       "\n",
       "    .dataframe thead th {\n",
       "        text-align: right;\n",
       "    }\n",
       "</style>\n",
       "<table border=\"1\" class=\"dataframe\">\n",
       "  <thead>\n",
       "    <tr style=\"text-align: right;\">\n",
       "      <th></th>\n",
       "      <th>id</th>\n",
       "      <th>title</th>\n",
       "      <th>year</th>\n",
       "      <th>vote_count</th>\n",
       "      <th>vote_average</th>\n",
       "      <th>popularity</th>\n",
       "      <th>genres</th>\n",
       "      <th>wr</th>\n",
       "    </tr>\n",
       "  </thead>\n",
       "  <tbody>\n",
       "    <tr>\n",
       "      <th>15386</th>\n",
       "      <td>27205</td>\n",
       "      <td>Inception</td>\n",
       "      <td>2010</td>\n",
       "      <td>14075</td>\n",
       "      <td>8</td>\n",
       "      <td>29.108149</td>\n",
       "      <td>[{'id': 28, 'name': 'Action'}, {'id': 53, 'nam...</td>\n",
       "      <td>7.927116</td>\n",
       "    </tr>\n",
       "    <tr>\n",
       "      <th>12428</th>\n",
       "      <td>155</td>\n",
       "      <td>The Dark Knight</td>\n",
       "      <td>2008</td>\n",
       "      <td>12269</td>\n",
       "      <td>8</td>\n",
       "      <td>123.167259</td>\n",
       "      <td>[{'id': 18, 'name': 'Drama'}, {'id': 28, 'name...</td>\n",
       "      <td>7.916766</td>\n",
       "    </tr>\n",
       "    <tr>\n",
       "      <th>22634</th>\n",
       "      <td>157336</td>\n",
       "      <td>Interstellar</td>\n",
       "      <td>2014</td>\n",
       "      <td>11187</td>\n",
       "      <td>8</td>\n",
       "      <td>32.213481</td>\n",
       "      <td>[{'id': 12, 'name': 'Adventure'}, {'id': 18, '...</td>\n",
       "      <td>7.909026</td>\n",
       "    </tr>\n",
       "    <tr>\n",
       "      <th>2820</th>\n",
       "      <td>550</td>\n",
       "      <td>Fight Club</td>\n",
       "      <td>1999</td>\n",
       "      <td>9678</td>\n",
       "      <td>8</td>\n",
       "      <td>63.869599</td>\n",
       "      <td>[{'id': 18, 'name': 'Drama'}]</td>\n",
       "      <td>7.895470</td>\n",
       "    </tr>\n",
       "    <tr>\n",
       "      <th>4833</th>\n",
       "      <td>120</td>\n",
       "      <td>The Lord of the Rings: The Fellowship of the Ring</td>\n",
       "      <td>2001</td>\n",
       "      <td>8892</td>\n",
       "      <td>8</td>\n",
       "      <td>32.070725</td>\n",
       "      <td>[{'id': 12, 'name': 'Adventure'}, {'id': 14, '...</td>\n",
       "      <td>7.886674</td>\n",
       "    </tr>\n",
       "  </tbody>\n",
       "</table>\n",
       "</div>"
      ],
      "text/plain": [
       "           id                                              title  year  \\\n",
       "15386   27205                                          Inception  2010   \n",
       "12428     155                                    The Dark Knight  2008   \n",
       "22634  157336                                       Interstellar  2014   \n",
       "2820      550                                         Fight Club  1999   \n",
       "4833      120  The Lord of the Rings: The Fellowship of the Ring  2001   \n",
       "\n",
       "       vote_count  vote_average  popularity  \\\n",
       "15386       14075             8   29.108149   \n",
       "12428       12269             8  123.167259   \n",
       "22634       11187             8   32.213481   \n",
       "2820         9678             8   63.869599   \n",
       "4833         8892             8   32.070725   \n",
       "\n",
       "                                                  genres        wr  \n",
       "15386  [{'id': 28, 'name': 'Action'}, {'id': 53, 'nam...  7.927116  \n",
       "12428  [{'id': 18, 'name': 'Drama'}, {'id': 28, 'name...  7.916766  \n",
       "22634  [{'id': 12, 'name': 'Adventure'}, {'id': 18, '...  7.909026  \n",
       "2820                       [{'id': 18, 'name': 'Drama'}]  7.895470  \n",
       "4833   [{'id': 12, 'name': 'Adventure'}, {'id': 14, '...  7.886674  "
      ]
     },
     "execution_count": 32,
     "metadata": {},
     "output_type": "execute_result"
    }
   ],
   "source": [
    "top_movies.head()"
   ]
  },
  {
   "cell_type": "code",
   "execution_count": 33,
   "metadata": {},
   "outputs": [],
   "source": [
    "#Saving the Top movies data\n",
    "pickle.dump(top_movies,open('saved_models/top_movies.pkl','wb'))"
   ]
  },
  {
   "cell_type": "markdown",
   "metadata": {},
   "source": [
    "## Content Based Recommender\n",
    "\n",
    "The recommender we built in the previous section suffers some severe limitations. For one, it gives the same recommendation to everyone, regardless of the user's personal taste. If a person who loves romantic movies (and hates action) were to look at our Top 15 Chart, s/he wouldn't probably like most of the movies. If s/he were to go one step further and look at our charts by genre, s/he wouldn't still be getting the best recommendations.\n",
    "\n",
    "For instance, consider a person who loves *Dilwale Dulhania Le Jayenge*, *My Name is Khan* and *Kabhi Khushi Kabhi Gham*. One inference we can obtain is that the person loves the actor Shahrukh Khan and the director Karan Johar. Even if s/he were to access the romance chart, s/he wouldn't find these as the top recommendations.\n",
    "\n",
    "To personalise our recommendations more, I am going to build an engine that computes similarity between movies based on certain metrics and suggests movies that are most similar to a particular movie that a user liked. Since we will be using movie metadata (or content) to build this engine, this also known as **Content Based Filtering.**\n",
    "\n",
    "I will build two Content Based Recommenders based on:\n",
    "* Movie Overviews and Taglines\n",
    "* Movie Cast, Crew, Keywords and Genre\n",
    "\n",
    "Also, as mentioned in the introduction, I will be using a subset of all the movies available to us due to limiting computing power available to me. "
   ]
  },
  {
   "cell_type": "code",
   "execution_count": 35,
   "metadata": {},
   "outputs": [],
   "source": [
    "import nltk"
   ]
  },
  {
   "cell_type": "code",
   "execution_count": 36,
   "metadata": {},
   "outputs": [],
   "source": [
    "# nltk.download()"
   ]
  },
  {
   "cell_type": "code",
   "execution_count": 37,
   "metadata": {},
   "outputs": [],
   "source": [
    "import nltk\n",
    "from nltk.corpus import stopwords\n",
    "from nltk.tokenize import word_tokenize"
   ]
  },
  {
   "cell_type": "code",
   "execution_count": 38,
   "metadata": {},
   "outputs": [],
   "source": [
    "stop_words = set(stopwords.words('english'))\n",
    "stop_words.update([\"''\", \"``\", \"\\'s\", ','])"
   ]
  },
  {
   "cell_type": "code",
   "execution_count": 39,
   "metadata": {},
   "outputs": [],
   "source": [
    "#Tokenization and removing stopwords\n",
    "movies_df['overview_tags'] = movies_df['overview'].apply(lambda tokens: [w for w in word_tokenize(str(tokens).lower()) if w not in stop_words])"
   ]
  },
  {
   "cell_type": "code",
   "execution_count": 40,
   "metadata": {},
   "outputs": [],
   "source": [
    "movies_df['tags'] = movies_df['overview_tags'] + movies_df['genres'] + movies_df['keywords'] + movies_df['cast'] + movies_df['director']\n",
    "movies_df = movies_df.drop(columns=['overview_tags','keywords','cast','director'])"
   ]
  },
  {
   "cell_type": "code",
   "execution_count": 41,
   "metadata": {},
   "outputs": [],
   "source": [
    "movies_df['tags'] = movies_df['tags'].apply(lambda x: ' '.join(x))"
   ]
  },
  {
   "cell_type": "code",
   "execution_count": 42,
   "metadata": {},
   "outputs": [],
   "source": [
    "movies_df.reset_index(inplace=True)"
   ]
  },
  {
   "cell_type": "code",
   "execution_count": 43,
   "metadata": {},
   "outputs": [],
   "source": [
    "movies_df.drop(['index'], axis=1, inplace=True)"
   ]
  },
  {
   "cell_type": "code",
   "execution_count": 44,
   "metadata": {},
   "outputs": [],
   "source": [
    "from sklearn.feature_extraction.text import CountVectorizer\n",
    "from sklearn.metrics.pairwise import cosine_similarity\n",
    "\n",
    "cv = CountVectorizer(max_features=3000)\n",
    "\n",
    "vector = cv.fit_transform(movies_df['tags']).toarray()\n",
    "\n",
    "similarity = cosine_similarity(vector)"
   ]
  },
  {
   "cell_type": "code",
   "execution_count": 45,
   "metadata": {},
   "outputs": [],
   "source": [
    "from sklearn.metrics.pairwise import cosine_similarity"
   ]
  },
  {
   "cell_type": "code",
   "execution_count": 46,
   "metadata": {},
   "outputs": [],
   "source": [
    "#Recommend top 10 movies on the basis of Similar tags (Overview, Director, Cast, Genre)\n",
    "\n",
    "def recommend(movie):\n",
    "    index = movies_df[movies_df['title'] == movie].index[0]\n",
    "    distances = sorted(list(enumerate(similarity[index])),reverse=True,key = lambda x: x[1])\n",
    "    for i in distances[1:11]:\n",
    "        print(movies_df.loc[i[0]].title)"
   ]
  },
  {
   "cell_type": "code",
   "execution_count": 47,
   "metadata": {},
   "outputs": [
    {
     "name": "stdout",
     "output_type": "stream",
     "text": [
      "Die Another Day\n",
      "Licence to Kill\n",
      "A View to a Kill\n",
      "Octopussy\n",
      "Live and Let Die\n",
      "Never Say Never Again\n",
      "Dr. No\n",
      "From Russia with Love\n",
      "Thunderball\n",
      "Diamonds Are Forever\n"
     ]
    }
   ],
   "source": [
    "recommend('GoldenEye')"
   ]
  },
  {
   "cell_type": "code",
   "execution_count": 48,
   "metadata": {},
   "outputs": [],
   "source": [
    "movies_df['id'] = movies_df['id'].astype(int)"
   ]
  },
  {
   "cell_type": "code",
   "execution_count": 95,
   "metadata": {},
   "outputs": [],
   "source": [
    "#Saving the model for later use\n",
    "pickle.dump(movies_df,open('saved_models/movie_info.pkl','wb'))\n",
    "pickle.dump(similarity,open('saved_models/similarity_matrix.pkl','wb'))"
   ]
  },
  {
   "cell_type": "markdown",
   "metadata": {},
   "source": [
    "## Collaborative Filtering\n",
    "\n",
    "Our content based engine suffers from some severe limitations. It is only capable of suggesting movies which are *close* to a certain movie. That is, it is not capable of capturing tastes and providing recommendations across genres.\n",
    "\n",
    "Also, the engine that we built is not really personal in that it doesn't capture the personal tastes and biases of a user. Anyone querying our engine for recommendations based on a movie will receive the same recommendations for that movie, regardless of who s/he is.\n",
    "\n",
    "Therefore, in this section, we will use a technique called **Collaborative Filtering** to make recommendations to Movie Watchers. Collaborative Filtering is based on the idea that users similar to a me can be used to predict how much I will like a particular product or service those users have used/experienced but I have not.\n",
    "\n",
    "I will not be implementing Collaborative Filtering from scratch. Instead, I will use the **Surprise** library that used extremely powerful algorithms like **Singular Value Decomposition (SVD)** to minimise RMSE (Root Mean Square Error) and give great recommendations."
   ]
  },
  {
   "cell_type": "code",
   "execution_count": 125,
   "metadata": {},
   "outputs": [],
   "source": [
    "%matplotlib inline\n",
    "import pandas as pd\n",
    "import numpy as np\n",
    "import matplotlib.pyplot as plt\n",
    "from surprise import Reader, Dataset, SVD\n",
    "from surprise.model_selection import cross_validate\n",
    "\n",
    "import warnings; warnings.simplefilter('ignore')"
   ]
  },
  {
   "cell_type": "code",
   "execution_count": 127,
   "metadata": {
    "scrolled": true
   },
   "outputs": [
    {
     "data": {
      "text/html": [
       "<div>\n",
       "<style scoped>\n",
       "    .dataframe tbody tr th:only-of-type {\n",
       "        vertical-align: middle;\n",
       "    }\n",
       "\n",
       "    .dataframe tbody tr th {\n",
       "        vertical-align: top;\n",
       "    }\n",
       "\n",
       "    .dataframe thead th {\n",
       "        text-align: right;\n",
       "    }\n",
       "</style>\n",
       "<table border=\"1\" class=\"dataframe\">\n",
       "  <thead>\n",
       "    <tr style=\"text-align: right;\">\n",
       "      <th></th>\n",
       "      <th>userId</th>\n",
       "      <th>movieId</th>\n",
       "      <th>rating</th>\n",
       "      <th>timestamp</th>\n",
       "    </tr>\n",
       "  </thead>\n",
       "  <tbody>\n",
       "    <tr>\n",
       "      <th>0</th>\n",
       "      <td>1</td>\n",
       "      <td>31</td>\n",
       "      <td>2.5</td>\n",
       "      <td>1260759144</td>\n",
       "    </tr>\n",
       "    <tr>\n",
       "      <th>1</th>\n",
       "      <td>1</td>\n",
       "      <td>1029</td>\n",
       "      <td>3.0</td>\n",
       "      <td>1260759179</td>\n",
       "    </tr>\n",
       "    <tr>\n",
       "      <th>2</th>\n",
       "      <td>1</td>\n",
       "      <td>1061</td>\n",
       "      <td>3.0</td>\n",
       "      <td>1260759182</td>\n",
       "    </tr>\n",
       "    <tr>\n",
       "      <th>3</th>\n",
       "      <td>1</td>\n",
       "      <td>1129</td>\n",
       "      <td>2.0</td>\n",
       "      <td>1260759185</td>\n",
       "    </tr>\n",
       "    <tr>\n",
       "      <th>4</th>\n",
       "      <td>1</td>\n",
       "      <td>1172</td>\n",
       "      <td>4.0</td>\n",
       "      <td>1260759205</td>\n",
       "    </tr>\n",
       "  </tbody>\n",
       "</table>\n",
       "</div>"
      ],
      "text/plain": [
       "   userId  movieId  rating   timestamp\n",
       "0       1       31     2.5  1260759144\n",
       "1       1     1029     3.0  1260759179\n",
       "2       1     1061     3.0  1260759182\n",
       "3       1     1129     2.0  1260759185\n",
       "4       1     1172     4.0  1260759205"
      ]
     },
     "execution_count": 127,
     "metadata": {},
     "output_type": "execute_result"
    }
   ],
   "source": [
    "reader = Reader()\n",
    "ratings = pd.read_csv('dataset/ratings_small.csv')\n",
    "ratings.head()"
   ]
  },
  {
   "cell_type": "code",
   "execution_count": 129,
   "metadata": {},
   "outputs": [],
   "source": [
    "pickle.dump(ratings,open('saved_models/ratings_info.pkl','wb'))"
   ]
  },
  {
   "cell_type": "code",
   "execution_count": 131,
   "metadata": {},
   "outputs": [
    {
     "name": "stdout",
     "output_type": "stream",
     "text": [
      "Evaluating RMSE, MAE of algorithm SVD on 5 split(s).\n",
      "\n",
      "                  Fold 1  Fold 2  Fold 3  Fold 4  Fold 5  Mean    Std     \n",
      "RMSE (testset)    0.8960  0.8979  0.8968  0.8940  0.8949  0.8959  0.0014  \n",
      "MAE (testset)     0.6917  0.6899  0.6880  0.6880  0.6893  0.6894  0.0014  \n",
      "Fit time          0.90    0.83    0.83    0.82    0.84    0.85    0.03    \n",
      "Test time         0.11    0.09    0.09    0.08    0.09    0.09    0.01    \n"
     ]
    },
    {
     "data": {
      "text/plain": [
       "{'test_rmse': array([0.89599626, 0.89787923, 0.89675044, 0.89395451, 0.89494578]),\n",
       " 'test_mae': array([0.69173476, 0.68994647, 0.68802097, 0.68804064, 0.6892505 ]),\n",
       " 'fit_time': (0.9011940956115723,\n",
       "  0.8336648941040039,\n",
       "  0.8345592021942139,\n",
       "  0.8239870071411133,\n",
       "  0.8396477699279785),\n",
       " 'test_time': (0.1134941577911377,\n",
       "  0.0939939022064209,\n",
       "  0.0919489860534668,\n",
       "  0.08353066444396973,\n",
       "  0.08748483657836914)}"
      ]
     },
     "execution_count": 131,
     "metadata": {},
     "output_type": "execute_result"
    }
   ],
   "source": [
    "data = Dataset.load_from_df(ratings[['userId', 'movieId', 'rating']], reader)\n",
    "\n",
    "svd = SVD()\n",
    "cross_validate(svd, data, measures=['RMSE', 'MAE'], cv=5, verbose=True)"
   ]
  },
  {
   "cell_type": "code",
   "execution_count": 133,
   "metadata": {
    "editable": true,
    "slideshow": {
     "slide_type": ""
    },
    "tags": []
   },
   "outputs": [
    {
     "data": {
      "text/plain": [
       "<surprise.prediction_algorithms.matrix_factorization.SVD at 0x18d8b82c0>"
      ]
     },
     "execution_count": 133,
     "metadata": {},
     "output_type": "execute_result"
    }
   ],
   "source": [
    "trainset = data.build_full_trainset()\n",
    "svd.fit(trainset)"
   ]
  },
  {
   "cell_type": "code",
   "execution_count": 135,
   "metadata": {},
   "outputs": [],
   "source": [
    "pickle.dump(svd,open('saved_models/svd_model.pkl','wb'))"
   ]
  },
  {
   "cell_type": "code",
   "execution_count": 99,
   "metadata": {},
   "outputs": [],
   "source": [
    "sentence_embeddings = pickle.load(open('saved_models/sentence_embeddings.pkl', 'rb'))"
   ]
  },
  {
   "cell_type": "code",
   "execution_count": 161,
   "metadata": {},
   "outputs": [],
   "source": [
    "from sentence_transformers import SentenceTransformer\n",
    "\n",
    "model = SentenceTransformer(\"all-MiniLM-L6-v2\")\n",
    "\n",
    "sentence_embeddings = model.encode(movies_df['overview'].tolist())\n",
    "\n",
    "# pickle.dump(sentence_embeddings,open('saved_models/sentence_embeddings.pkl','wb'))"
   ]
  },
  {
   "cell_type": "code",
   "execution_count": 173,
   "metadata": {},
   "outputs": [],
   "source": [
    "pickle.dump(sentence_embeddings,open('saved_models/sentence_embeddings.pkl','wb'))"
   ]
  },
  {
   "cell_type": "code",
   "execution_count": 169,
   "metadata": {},
   "outputs": [],
   "source": [
    "def get_similar_movies(overview):\n",
    "    print(overview)\n",
    "    user_input_embedding = model.encode([overview])\n",
    "    similarities = cosine_similarity(user_input_embedding, sentence_embeddings)\n",
    "    movies_list = sorted(list(enumerate(similarities[0])),reverse=True,key = lambda x: x[1])\n",
    "    for i, el in movies_list[:11]:\n",
    "        print(movies_df.iloc[i].title)"
   ]
  },
  {
   "cell_type": "code",
   "execution_count": 155,
   "metadata": {},
   "outputs": [
    {
     "data": {
      "text/html": [
       "<div>\n",
       "<style scoped>\n",
       "    .dataframe tbody tr th:only-of-type {\n",
       "        vertical-align: middle;\n",
       "    }\n",
       "\n",
       "    .dataframe tbody tr th {\n",
       "        vertical-align: top;\n",
       "    }\n",
       "\n",
       "    .dataframe thead th {\n",
       "        text-align: right;\n",
       "    }\n",
       "</style>\n",
       "<table border=\"1\" class=\"dataframe\">\n",
       "  <thead>\n",
       "    <tr style=\"text-align: right;\">\n",
       "      <th></th>\n",
       "      <th>id</th>\n",
       "      <th>title</th>\n",
       "      <th>genres</th>\n",
       "      <th>overview</th>\n",
       "      <th>poster_path</th>\n",
       "      <th>tags</th>\n",
       "    </tr>\n",
       "  </thead>\n",
       "  <tbody>\n",
       "  </tbody>\n",
       "</table>\n",
       "</div>"
      ],
      "text/plain": [
       "Empty DataFrame\n",
       "Columns: [id, title, genres, overview, poster_path, tags]\n",
       "Index: []"
      ]
     },
     "execution_count": 155,
     "metadata": {},
     "output_type": "execute_result"
    }
   ],
   "source": [
    "movies_df[movies_df.id == 6906]"
   ]
  },
  {
   "cell_type": "code",
   "execution_count": 165,
   "metadata": {},
   "outputs": [
    {
     "data": {
      "text/plain": [
       "id                                                         13007\n",
       "title                                                 Religulous\n",
       "genres                                     [Comedy, Documentary]\n",
       "overview       Commentator-comic Bill Maher plays devil's adv...\n",
       "poster_path                     /go7QqWheQdcJVzfFIEkxcecW0BQ.jpg\n",
       "tags           commentator-comic bill maher plays devil advoc...\n",
       "Name: 6906, dtype: object"
      ]
     },
     "execution_count": 165,
     "metadata": {},
     "output_type": "execute_result"
    }
   ],
   "source": [
    "movies_df.iloc[6906]"
   ]
  },
  {
   "cell_type": "code",
   "execution_count": 177,
   "metadata": {},
   "outputs": [
    {
     "data": {
      "text/html": [
       "<div>\n",
       "<style scoped>\n",
       "    .dataframe tbody tr th:only-of-type {\n",
       "        vertical-align: middle;\n",
       "    }\n",
       "\n",
       "    .dataframe tbody tr th {\n",
       "        vertical-align: top;\n",
       "    }\n",
       "\n",
       "    .dataframe thead th {\n",
       "        text-align: right;\n",
       "    }\n",
       "</style>\n",
       "<table border=\"1\" class=\"dataframe\">\n",
       "  <thead>\n",
       "    <tr style=\"text-align: right;\">\n",
       "      <th></th>\n",
       "      <th>id</th>\n",
       "      <th>title</th>\n",
       "      <th>genres</th>\n",
       "      <th>overview</th>\n",
       "      <th>poster_path</th>\n",
       "      <th>tags</th>\n",
       "    </tr>\n",
       "  </thead>\n",
       "  <tbody>\n",
       "    <tr>\n",
       "      <th>0</th>\n",
       "      <td>862</td>\n",
       "      <td>Toy Story</td>\n",
       "      <td>[Animation, Comedy, Family]</td>\n",
       "      <td>Led by Woody, Andy's toys live happily in his ...</td>\n",
       "      <td>/rhIRbceoE9lR4veEXuwCC2wARtG.jpg</td>\n",
       "      <td>led woody andy toys live happily room andy bir...</td>\n",
       "    </tr>\n",
       "    <tr>\n",
       "      <th>1</th>\n",
       "      <td>8844</td>\n",
       "      <td>Jumanji</td>\n",
       "      <td>[Adventure, Fantasy, Family]</td>\n",
       "      <td>When siblings Judy and Peter discover an encha...</td>\n",
       "      <td>/vzmL6fP7aPKNKPRTFnZmiUfciyV.jpg</td>\n",
       "      <td>siblings judy peter discover enchanted board g...</td>\n",
       "    </tr>\n",
       "    <tr>\n",
       "      <th>2</th>\n",
       "      <td>15602</td>\n",
       "      <td>Grumpier Old Men</td>\n",
       "      <td>[Romance, Comedy]</td>\n",
       "      <td>A family wedding reignites the ancient feud be...</td>\n",
       "      <td>/6ksm1sjKMFLbO7UY2i6G1ju9SML.jpg</td>\n",
       "      <td>family wedding reignites ancient feud next-doo...</td>\n",
       "    </tr>\n",
       "    <tr>\n",
       "      <th>3</th>\n",
       "      <td>31357</td>\n",
       "      <td>Waiting to Exhale</td>\n",
       "      <td>[Comedy, Drama, Romance]</td>\n",
       "      <td>Cheated on, mistreated and stepped on, the wom...</td>\n",
       "      <td>/16XOMpEaLWkrcPqSQqhTmeJuqQl.jpg</td>\n",
       "      <td>cheated mistreated stepped women holding breat...</td>\n",
       "    </tr>\n",
       "    <tr>\n",
       "      <th>4</th>\n",
       "      <td>11862</td>\n",
       "      <td>Father of the Bride Part II</td>\n",
       "      <td>[Comedy]</td>\n",
       "      <td>Just when George Banks has recovered from his ...</td>\n",
       "      <td>/e64sOI48hQXyru7naBFyssKFxVd.jpg</td>\n",
       "      <td>george banks recovered daughter wedding receiv...</td>\n",
       "    </tr>\n",
       "  </tbody>\n",
       "</table>\n",
       "</div>"
      ],
      "text/plain": [
       "      id                        title                        genres  \\\n",
       "0    862                    Toy Story   [Animation, Comedy, Family]   \n",
       "1   8844                      Jumanji  [Adventure, Fantasy, Family]   \n",
       "2  15602             Grumpier Old Men             [Romance, Comedy]   \n",
       "3  31357            Waiting to Exhale      [Comedy, Drama, Romance]   \n",
       "4  11862  Father of the Bride Part II                      [Comedy]   \n",
       "\n",
       "                                            overview  \\\n",
       "0  Led by Woody, Andy's toys live happily in his ...   \n",
       "1  When siblings Judy and Peter discover an encha...   \n",
       "2  A family wedding reignites the ancient feud be...   \n",
       "3  Cheated on, mistreated and stepped on, the wom...   \n",
       "4  Just when George Banks has recovered from his ...   \n",
       "\n",
       "                        poster_path  \\\n",
       "0  /rhIRbceoE9lR4veEXuwCC2wARtG.jpg   \n",
       "1  /vzmL6fP7aPKNKPRTFnZmiUfciyV.jpg   \n",
       "2  /6ksm1sjKMFLbO7UY2i6G1ju9SML.jpg   \n",
       "3  /16XOMpEaLWkrcPqSQqhTmeJuqQl.jpg   \n",
       "4  /e64sOI48hQXyru7naBFyssKFxVd.jpg   \n",
       "\n",
       "                                                tags  \n",
       "0  led woody andy toys live happily room andy bir...  \n",
       "1  siblings judy peter discover enchanted board g...  \n",
       "2  family wedding reignites ancient feud next-doo...  \n",
       "3  cheated mistreated stepped women holding breat...  \n",
       "4  george banks recovered daughter wedding receiv...  "
      ]
     },
     "execution_count": 177,
     "metadata": {},
     "output_type": "execute_result"
    }
   ],
   "source": [
    "movies_df.head()"
   ]
  },
  {
   "cell_type": "code",
   "execution_count": 179,
   "metadata": {},
   "outputs": [
    {
     "name": "stdout",
     "output_type": "stream",
     "text": [
      "Led by Woody, Andy's toys live happily in his room until Andy's birthday brings Buzz Lightyear onto the scene. Afraid of losing his place in Andy's heart, Woody plots against Buzz. But when circumstances separate Buzz and Woody from their owner, the duo eventually learns to put aside their differences.\n",
      "Toy Story\n",
      "Toy Story 3\n",
      "Toy Story 2\n",
      "Child's Play 3\n",
      "Firestarter\n",
      "Radio Days\n",
      "The Kings of Summer\n",
      "Pinocchio\n",
      "Luxo Jr.\n",
      "A Very Harold & Kumar Christmas\n",
      "Gremlins 2: The New Batch\n"
     ]
    }
   ],
   "source": [
    "get_similar_movies(movies_df[movies_df.id == 862].overview.values[0])"
   ]
  },
  {
   "cell_type": "code",
   "execution_count": 145,
   "metadata": {},
   "outputs": [
    {
     "name": "stdout",
     "output_type": "stream",
     "text": [
      "Number of Genres: 20\n",
      "{'Animation': 440, 'Comedy': 3367, 'Family': 857, 'Adventure': 1195, 'Fantasy': 749, 'Romance': 1846, 'Drama': 4635, 'Action': 1749, 'Crime': 1254, 'Thriller': 2016, 'Horror': 916, 'History': 344, 'ScienceFiction': 858, 'Mystery': 651, 'War': 271, 'Foreign': 100, 'Music': 451, 'Documentary': 460, 'Western': 172, 'TVMovie': 36}\n"
     ]
    }
   ],
   "source": [
    "genres_list = movies_df.genres.to_list()\n",
    "genre_count = {}\n",
    "for genres in genres_list:\n",
    "  genre_list = genres\n",
    "  for genre in genre_list:\n",
    "    if genre in genre_count.keys():\n",
    "      genre_count[genre] += 1\n",
    "    else:\n",
    "      genre_count[genre] = 1\n",
    "print(f\"Number of Genres: {len(genre_count)}\")\n",
    "print(genre_count)"
   ]
  },
  {
   "cell_type": "code",
   "execution_count": 377,
   "metadata": {},
   "outputs": [],
   "source": [
    "genre_master = list(genre_count.keys())"
   ]
  },
  {
   "cell_type": "code",
   "execution_count": 379,
   "metadata": {},
   "outputs": [
    {
     "data": {
      "text/plain": [
       "(1, ['TVMovie'])"
      ]
     },
     "execution_count": 379,
     "metadata": {},
     "output_type": "execute_result"
    }
   ],
   "source": [
    "threshold = int(len(movies_df) * 0.01)\n",
    "rare_genres = [key for key, value in genre_count.items() if value < threshold]\n",
    "len(rare_genres), rare_genres[:5]"
   ]
  },
  {
   "cell_type": "code",
   "execution_count": 363,
   "metadata": {},
   "outputs": [],
   "source": [
    "movies_df.drop('TVMovie', axis=1, inplace=True)"
   ]
  },
  {
   "cell_type": "code",
   "execution_count": 385,
   "metadata": {},
   "outputs": [],
   "source": [
    "encode_genre_types = { key: idx for idx, (key, value) in enumerate(genre_count.items())}"
   ]
  },
  {
   "cell_type": "code",
   "execution_count": 395,
   "metadata": {},
   "outputs": [
    {
     "data": {
      "text/plain": [
       "[0, 1, 0, 0, 0, 1, 1, 0, 0, 0, 0, 0, 0, 0, 0, 0, 0, 0, 0, 0]"
      ]
     },
     "execution_count": 395,
     "metadata": {},
     "output_type": "execute_result"
    }
   ],
   "source": [
    "categorical_genre_list = []\n",
    "genres_list = movies_df.genres.to_list()\n",
    "\n",
    "for all_genres in genres_list:\n",
    "  categorical_list = [0] * len(encode_genre_types)\n",
    "  # genres = ast.literal_eval(all_genres)\n",
    "  for genre in all_genres:\n",
    "    genre_type_index = encode_genre_types[genre] \n",
    "    categorical_list[genre_type_index] = 1\n",
    "  categorical_genre_list.append(categorical_list)\n",
    "\n",
    "categorical_genre_list[3]"
   ]
  },
  {
   "cell_type": "code",
   "execution_count": 229,
   "metadata": {},
   "outputs": [
    {
     "data": {
      "text/html": [
       "<div>\n",
       "<style scoped>\n",
       "    .dataframe tbody tr th:only-of-type {\n",
       "        vertical-align: middle;\n",
       "    }\n",
       "\n",
       "    .dataframe tbody tr th {\n",
       "        vertical-align: top;\n",
       "    }\n",
       "\n",
       "    .dataframe thead th {\n",
       "        text-align: right;\n",
       "    }\n",
       "</style>\n",
       "<table border=\"1\" class=\"dataframe\">\n",
       "  <thead>\n",
       "    <tr style=\"text-align: right;\">\n",
       "      <th></th>\n",
       "      <th>id</th>\n",
       "      <th>title</th>\n",
       "      <th>genres</th>\n",
       "      <th>overview</th>\n",
       "      <th>poster_path</th>\n",
       "      <th>tags</th>\n",
       "      <th>genre_cat_list</th>\n",
       "    </tr>\n",
       "  </thead>\n",
       "  <tbody>\n",
       "    <tr>\n",
       "      <th>0</th>\n",
       "      <td>862</td>\n",
       "      <td>Toy Story</td>\n",
       "      <td>[Animation, Comedy, Family]</td>\n",
       "      <td>Led by Woody, Andy's toys live happily in his ...</td>\n",
       "      <td>/rhIRbceoE9lR4veEXuwCC2wARtG.jpg</td>\n",
       "      <td>led woody andy toys live happily room andy bir...</td>\n",
       "      <td>[1, 1, 1, 0, 0, 0, 0, 0, 0, 0, 0, 0, 0, 0, 0, ...</td>\n",
       "    </tr>\n",
       "    <tr>\n",
       "      <th>1</th>\n",
       "      <td>8844</td>\n",
       "      <td>Jumanji</td>\n",
       "      <td>[Adventure, Fantasy, Family]</td>\n",
       "      <td>When siblings Judy and Peter discover an encha...</td>\n",
       "      <td>/vzmL6fP7aPKNKPRTFnZmiUfciyV.jpg</td>\n",
       "      <td>siblings judy peter discover enchanted board g...</td>\n",
       "      <td>[0, 0, 1, 1, 1, 0, 0, 0, 0, 0, 0, 0, 0, 0, 0, ...</td>\n",
       "    </tr>\n",
       "    <tr>\n",
       "      <th>2</th>\n",
       "      <td>15602</td>\n",
       "      <td>Grumpier Old Men</td>\n",
       "      <td>[Romance, Comedy]</td>\n",
       "      <td>A family wedding reignites the ancient feud be...</td>\n",
       "      <td>/6ksm1sjKMFLbO7UY2i6G1ju9SML.jpg</td>\n",
       "      <td>family wedding reignites ancient feud next-doo...</td>\n",
       "      <td>[0, 1, 0, 0, 0, 1, 0, 0, 0, 0, 0, 0, 0, 0, 0, ...</td>\n",
       "    </tr>\n",
       "    <tr>\n",
       "      <th>3</th>\n",
       "      <td>31357</td>\n",
       "      <td>Waiting to Exhale</td>\n",
       "      <td>[Comedy, Drama, Romance]</td>\n",
       "      <td>Cheated on, mistreated and stepped on, the wom...</td>\n",
       "      <td>/16XOMpEaLWkrcPqSQqhTmeJuqQl.jpg</td>\n",
       "      <td>cheated mistreated stepped women holding breat...</td>\n",
       "      <td>[0, 1, 0, 0, 0, 1, 1, 0, 0, 0, 0, 0, 0, 0, 0, ...</td>\n",
       "    </tr>\n",
       "    <tr>\n",
       "      <th>4</th>\n",
       "      <td>11862</td>\n",
       "      <td>Father of the Bride Part II</td>\n",
       "      <td>[Comedy]</td>\n",
       "      <td>Just when George Banks has recovered from his ...</td>\n",
       "      <td>/e64sOI48hQXyru7naBFyssKFxVd.jpg</td>\n",
       "      <td>george banks recovered daughter wedding receiv...</td>\n",
       "      <td>[0, 1, 0, 0, 0, 0, 0, 0, 0, 0, 0, 0, 0, 0, 0, ...</td>\n",
       "    </tr>\n",
       "  </tbody>\n",
       "</table>\n",
       "</div>"
      ],
      "text/plain": [
       "      id                        title                        genres  \\\n",
       "0    862                    Toy Story   [Animation, Comedy, Family]   \n",
       "1   8844                      Jumanji  [Adventure, Fantasy, Family]   \n",
       "2  15602             Grumpier Old Men             [Romance, Comedy]   \n",
       "3  31357            Waiting to Exhale      [Comedy, Drama, Romance]   \n",
       "4  11862  Father of the Bride Part II                      [Comedy]   \n",
       "\n",
       "                                            overview  \\\n",
       "0  Led by Woody, Andy's toys live happily in his ...   \n",
       "1  When siblings Judy and Peter discover an encha...   \n",
       "2  A family wedding reignites the ancient feud be...   \n",
       "3  Cheated on, mistreated and stepped on, the wom...   \n",
       "4  Just when George Banks has recovered from his ...   \n",
       "\n",
       "                        poster_path  \\\n",
       "0  /rhIRbceoE9lR4veEXuwCC2wARtG.jpg   \n",
       "1  /vzmL6fP7aPKNKPRTFnZmiUfciyV.jpg   \n",
       "2  /6ksm1sjKMFLbO7UY2i6G1ju9SML.jpg   \n",
       "3  /16XOMpEaLWkrcPqSQqhTmeJuqQl.jpg   \n",
       "4  /e64sOI48hQXyru7naBFyssKFxVd.jpg   \n",
       "\n",
       "                                                tags  \\\n",
       "0  led woody andy toys live happily room andy bir...   \n",
       "1  siblings judy peter discover enchanted board g...   \n",
       "2  family wedding reignites ancient feud next-doo...   \n",
       "3  cheated mistreated stepped women holding breat...   \n",
       "4  george banks recovered daughter wedding receiv...   \n",
       "\n",
       "                                      genre_cat_list  \n",
       "0  [1, 1, 1, 0, 0, 0, 0, 0, 0, 0, 0, 0, 0, 0, 0, ...  \n",
       "1  [0, 0, 1, 1, 1, 0, 0, 0, 0, 0, 0, 0, 0, 0, 0, ...  \n",
       "2  [0, 1, 0, 0, 0, 1, 0, 0, 0, 0, 0, 0, 0, 0, 0, ...  \n",
       "3  [0, 1, 0, 0, 0, 1, 1, 0, 0, 0, 0, 0, 0, 0, 0, ...  \n",
       "4  [0, 1, 0, 0, 0, 0, 0, 0, 0, 0, 0, 0, 0, 0, 0, ...  "
      ]
     },
     "execution_count": 229,
     "metadata": {},
     "output_type": "execute_result"
    }
   ],
   "source": [
    "movies_df['genre_cat_list'] = categorical_genre_list\n",
    "movies_df.head()"
   ]
  },
  {
   "cell_type": "code",
   "execution_count": 231,
   "metadata": {},
   "outputs": [],
   "source": [
    "labels = list(encode_genre_types.keys())"
   ]
  },
  {
   "cell_type": "code",
   "execution_count": 233,
   "metadata": {},
   "outputs": [],
   "source": [
    "movies_df_fine_tune = movies_df[['overview', 'genre_cat_list']]"
   ]
  },
  {
   "cell_type": "code",
   "execution_count": 429,
   "metadata": {},
   "outputs": [
    {
     "data": {
      "text/html": [
       "<div>\n",
       "<style scoped>\n",
       "    .dataframe tbody tr th:only-of-type {\n",
       "        vertical-align: middle;\n",
       "    }\n",
       "\n",
       "    .dataframe tbody tr th {\n",
       "        vertical-align: top;\n",
       "    }\n",
       "\n",
       "    .dataframe thead th {\n",
       "        text-align: right;\n",
       "    }\n",
       "</style>\n",
       "<table border=\"1\" class=\"dataframe\">\n",
       "  <thead>\n",
       "    <tr style=\"text-align: right;\">\n",
       "      <th></th>\n",
       "      <th>id</th>\n",
       "      <th>title</th>\n",
       "      <th>genres</th>\n",
       "      <th>overview</th>\n",
       "      <th>poster_path</th>\n",
       "      <th>tags</th>\n",
       "      <th>genre_cat_list</th>\n",
       "      <th>Animation</th>\n",
       "      <th>Comedy</th>\n",
       "      <th>Family</th>\n",
       "      <th>...</th>\n",
       "      <th>Thriller</th>\n",
       "      <th>Horror</th>\n",
       "      <th>History</th>\n",
       "      <th>ScienceFiction</th>\n",
       "      <th>Mystery</th>\n",
       "      <th>War</th>\n",
       "      <th>Foreign</th>\n",
       "      <th>Music</th>\n",
       "      <th>Documentary</th>\n",
       "      <th>Western</th>\n",
       "    </tr>\n",
       "  </thead>\n",
       "  <tbody>\n",
       "    <tr>\n",
       "      <th>4732</th>\n",
       "      <td>10999</td>\n",
       "      <td>Commando</td>\n",
       "      <td>[Action, Adventure, Thriller]</td>\n",
       "      <td>John Matrix, the former leader of a special co...</td>\n",
       "      <td>/ggVVcXvlLqFOK6lEkD8G2aDarDb.jpg</td>\n",
       "      <td>john matrix former leader special commando str...</td>\n",
       "      <td>[0, 0, 0, 1, 0, 0, 0, 1, 0, 1, 0, 0, 0, 0, 0, ...</td>\n",
       "      <td>0.021334</td>\n",
       "      <td>0.045592</td>\n",
       "      <td>0.014806</td>\n",
       "      <td>...</td>\n",
       "      <td>0.873716</td>\n",
       "      <td>0.018824</td>\n",
       "      <td>0.022438</td>\n",
       "      <td>0.135359</td>\n",
       "      <td>0.025632</td>\n",
       "      <td>0.048034</td>\n",
       "      <td>0.011011</td>\n",
       "      <td>0.003906</td>\n",
       "      <td>0.022</td>\n",
       "      <td>0.026642</td>\n",
       "    </tr>\n",
       "  </tbody>\n",
       "</table>\n",
       "<p>1 rows × 26 columns</p>\n",
       "</div>"
      ],
      "text/plain": [
       "         id     title                         genres  \\\n",
       "4732  10999  Commando  [Action, Adventure, Thriller]   \n",
       "\n",
       "                                               overview  \\\n",
       "4732  John Matrix, the former leader of a special co...   \n",
       "\n",
       "                           poster_path  \\\n",
       "4732  /ggVVcXvlLqFOK6lEkD8G2aDarDb.jpg   \n",
       "\n",
       "                                                   tags  \\\n",
       "4732  john matrix former leader special commando str...   \n",
       "\n",
       "                                         genre_cat_list  Animation    Comedy  \\\n",
       "4732  [0, 0, 0, 1, 0, 0, 0, 1, 0, 1, 0, 0, 0, 0, 0, ...   0.021334  0.045592   \n",
       "\n",
       "        Family  ...  Thriller    Horror   History  ScienceFiction   Mystery  \\\n",
       "4732  0.014806  ...  0.873716  0.018824  0.022438        0.135359  0.025632   \n",
       "\n",
       "           War   Foreign     Music  Documentary   Western  \n",
       "4732  0.048034  0.011011  0.003906        0.022  0.026642  \n",
       "\n",
       "[1 rows x 26 columns]"
      ]
     },
     "execution_count": 429,
     "metadata": {},
     "output_type": "execute_result"
    }
   ],
   "source": [
    "movies_df[movies_df.title == 'Commando']"
   ]
  },
  {
   "cell_type": "code",
   "execution_count": 241,
   "metadata": {},
   "outputs": [
    {
     "data": {
      "text/plain": [
       "(9062, 2)"
      ]
     },
     "execution_count": 241,
     "metadata": {},
     "output_type": "execute_result"
    }
   ],
   "source": [
    "movies_df_fine_tune.shape"
   ]
  },
  {
   "cell_type": "code",
   "execution_count": 247,
   "metadata": {},
   "outputs": [],
   "source": [
    "#Fine Tune Bert for multi class multi label classification\n",
    "\n",
    "# import torch\n",
    "# from torch.utils.data.dataset import Dataset\n",
    "# from sklearn.model_selection import train_test_split\n",
    "\n",
    "# from transformers import AutoTokenizer, AutoModelForSequenceClassification, TrainingArguments, Trainer\n",
    "\n",
    "# device = torch.device('cpu')\n",
    "\n",
    "# def to_float(row):\n",
    "#     new_list = []\n",
    "#     l = ast.literal_eval(row)\n",
    "#     for el in l:\n",
    "#         new_list.append(float(el))\n",
    "#     return new_list\n",
    "\n",
    "# texts = list(movies_df_fine_tune['overview'])\n",
    "# data['genre_cat_list'] = movies_df_fine_tune['genre_cat_list'].apply(to_float)\n",
    "# labels = list(movies_df_fine_tune['genre_cat_list'])\n",
    "\n",
    "# train_texts, eval_texts, train_labels, eval_labels = train_test_split(list(movies_df_fine_tune['overview']), list(movies_df_fine_tune['genre_cat_list']), test_size = 0.20, random_state = 0)\n",
    "\n",
    "# train_texts = texts[:8000]\n",
    "# train_labels = labels[:8000]\n",
    "\n",
    "# eval_texts = texts[2:4]\n",
    "# eval_labels = labels[2:4]\n",
    "\n",
    "# tokenizer = AutoTokenizer.from_pretrained('bert-base-uncased', do_lower_case=True)\n",
    "\n",
    "# train_encodings = tokenizer(train_texts, padding=\"max_length\", truncation=True, max_length=512)\n",
    "# eval_encodings = tokenizer(eval_texts, padding=\"max_length\", truncation=True, max_length=512)\n",
    "\n",
    "\n",
    "# class TextClassifierDataset(Dataset):\n",
    "#     def __init__(self, encodings, labels):\n",
    "#         self.encodings = encodings\n",
    "#         self.labels = labels\n",
    "\n",
    "#     def __len__(self):\n",
    "#         return len(self.labels)\n",
    "\n",
    "#     def __getitem__(self, idx):\n",
    "#         item = {key: torch.tensor(val[idx]) for key, val in self.encodings.items()}\n",
    "#         item[\"labels\"] = torch.tensor(self.labels[idx])\n",
    "#         return item\n",
    "\n",
    "# train_dataset = TextClassifierDataset(train_encodings, train_labels)\n",
    "# eval_dataset = TextClassifierDataset(eval_encodings, eval_labels)\n",
    "\n",
    "# model = AutoModelForSequenceClassification.from_pretrained(\n",
    "#     \"bert-base-uncased\", \n",
    "#     problem_type=\"multi_label_classification\",\n",
    "#     num_labels=5\n",
    "# ).to(device)\n",
    "\n",
    "# training_arguments = TrainingArguments(\n",
    "#     output_dir=\".\",\n",
    "#     evaluation_strategy=\"epoch\",\n",
    "#     per_device_train_batch_size=16,\n",
    "#     per_device_eval_batch_size=16,\n",
    "#     num_train_epochs=5,\n",
    "# )\n",
    "\n",
    "# trainer = Trainer(\n",
    "#     model=model,\n",
    "#     args=training_arguments,\n",
    "#     train_dataset=train_dataset,\n",
    "#     eval_dataset=eval_dataset,\n",
    "# )\n",
    "\n",
    "# trainer.train()\n",
    "# print(trainer.evaluate())"
   ]
  },
  {
   "cell_type": "code",
   "execution_count": 281,
   "metadata": {},
   "outputs": [],
   "source": [
    "for el in genre_master:\n",
    "    movies_df[el] = 0"
   ]
  },
  {
   "cell_type": "code",
   "execution_count": 261,
   "metadata": {},
   "outputs": [],
   "source": [
    "from transformers import TextClassificationPipeline, AutoTokenizer, AutoModelForSequenceClassification\n",
    "\n",
    "MODEL_NAME = \"multilabel_classifier\"\n",
    "tokenizer = AutoTokenizer.from_pretrained(\"bert-base-uncased\")\n",
    "model = AutoModelForSequenceClassification.from_pretrained(MODEL_NAME)\n",
    "\n",
    "pipe = TextClassificationPipeline(model=model, tokenizer=tokenizer, device='cpu')"
   ]
  },
  {
   "cell_type": "code",
   "execution_count": 343,
   "metadata": {},
   "outputs": [
    {
     "name": "stdout",
     "output_type": "stream",
     "text": [
      "[[{'label': 'LABEL_0', 'score': 0.621728777885437}, {'label': 'LABEL_1', 'score': 0.8790881633758545}, {'label': 'LABEL_2', 'score': 0.9685618877410889}, {'label': 'LABEL_3', 'score': 0.19067753851413727}, {'label': 'LABEL_4', 'score': 0.22023531794548035}, {'label': 'LABEL_5', 'score': 0.013924052938818932}, {'label': 'LABEL_6', 'score': 0.08540508151054382}, {'label': 'LABEL_7', 'score': 0.02237039990723133}, {'label': 'LABEL_8', 'score': 0.01619631238281727}, {'label': 'LABEL_9', 'score': 0.0060385833494365215}, {'label': 'LABEL_10', 'score': 0.010727817192673683}, {'label': 'LABEL_11', 'score': 0.01163817010819912}, {'label': 'LABEL_12', 'score': 0.05880765989422798}, {'label': 'LABEL_13', 'score': 0.009957588277757168}, {'label': 'LABEL_14', 'score': 0.006109141279011965}, {'label': 'LABEL_15', 'score': 0.017491415143013}, {'label': 'LABEL_16', 'score': 0.056412529200315475}, {'label': 'LABEL_17', 'score': 0.02455463632941246}, {'label': 'LABEL_18', 'score': 0.01060547586530447}, {'label': 'LABEL_19', 'score': 0.013519689440727234}]]\n"
     ]
    }
   ],
   "source": [
    "#Sample Prediction\n",
    "sentence = movies_df.overview[0]\n",
    "prediction = pipe(sentence, return_all_scores=True)\n",
    "print(prediction)"
   ]
  },
  {
   "cell_type": "code",
   "execution_count": 293,
   "metadata": {
    "scrolled": true
   },
   "outputs": [],
   "source": [
    "for i, row in movies_df.iterrows():\n",
    "    prediction = pipe(row['overview'], return_all_scores=True)\n",
    "    for j, el in enumerate(prediction[0]):\n",
    "        column, score = (genre_master[j], el['score'])\n",
    "        movies_df.at[i, column] = score\n",
    "\n",
    "pickle.dump(movies_df,open('saved_models/movie_genre_info.pkl','wb'))"
   ]
  },
  {
   "cell_type": "code",
   "execution_count": 353,
   "metadata": {},
   "outputs": [
    {
     "data": {
      "text/html": [
       "<div>\n",
       "<style scoped>\n",
       "    .dataframe tbody tr th:only-of-type {\n",
       "        vertical-align: middle;\n",
       "    }\n",
       "\n",
       "    .dataframe tbody tr th {\n",
       "        vertical-align: top;\n",
       "    }\n",
       "\n",
       "    .dataframe thead th {\n",
       "        text-align: right;\n",
       "    }\n",
       "</style>\n",
       "<table border=\"1\" class=\"dataframe\">\n",
       "  <thead>\n",
       "    <tr style=\"text-align: right;\">\n",
       "      <th></th>\n",
       "      <th>id</th>\n",
       "      <th>title</th>\n",
       "      <th>genres</th>\n",
       "      <th>overview</th>\n",
       "      <th>poster_path</th>\n",
       "      <th>tags</th>\n",
       "      <th>genre_cat_list</th>\n",
       "      <th>Animation</th>\n",
       "      <th>Comedy</th>\n",
       "      <th>Family</th>\n",
       "      <th>...</th>\n",
       "      <th>Thriller</th>\n",
       "      <th>Horror</th>\n",
       "      <th>History</th>\n",
       "      <th>ScienceFiction</th>\n",
       "      <th>Mystery</th>\n",
       "      <th>War</th>\n",
       "      <th>Foreign</th>\n",
       "      <th>Music</th>\n",
       "      <th>Documentary</th>\n",
       "      <th>Western</th>\n",
       "    </tr>\n",
       "  </thead>\n",
       "  <tbody>\n",
       "    <tr>\n",
       "      <th>0</th>\n",
       "      <td>862</td>\n",
       "      <td>Toy Story</td>\n",
       "      <td>[Animation, Comedy, Family]</td>\n",
       "      <td>Led by Woody, Andy's toys live happily in his ...</td>\n",
       "      <td>/rhIRbceoE9lR4veEXuwCC2wARtG.jpg</td>\n",
       "      <td>led woody andy toys live happily room andy bir...</td>\n",
       "      <td>[1, 1, 1, 0, 0, 0, 0, 0, 0, 0, 0, 0, 0, 0, 0, ...</td>\n",
       "      <td>0.621729</td>\n",
       "      <td>0.879088</td>\n",
       "      <td>0.968562</td>\n",
       "      <td>...</td>\n",
       "      <td>0.006039</td>\n",
       "      <td>0.010728</td>\n",
       "      <td>0.011638</td>\n",
       "      <td>0.058808</td>\n",
       "      <td>0.009958</td>\n",
       "      <td>0.006109</td>\n",
       "      <td>0.017491</td>\n",
       "      <td>0.056413</td>\n",
       "      <td>0.024555</td>\n",
       "      <td>0.010605</td>\n",
       "    </tr>\n",
       "    <tr>\n",
       "      <th>1</th>\n",
       "      <td>8844</td>\n",
       "      <td>Jumanji</td>\n",
       "      <td>[Adventure, Fantasy, Family]</td>\n",
       "      <td>When siblings Judy and Peter discover an encha...</td>\n",
       "      <td>/vzmL6fP7aPKNKPRTFnZmiUfciyV.jpg</td>\n",
       "      <td>siblings judy peter discover enchanted board g...</td>\n",
       "      <td>[0, 0, 1, 1, 1, 0, 0, 0, 0, 0, 0, 0, 0, 0, 0, ...</td>\n",
       "      <td>0.621093</td>\n",
       "      <td>0.051024</td>\n",
       "      <td>0.929004</td>\n",
       "      <td>...</td>\n",
       "      <td>0.029687</td>\n",
       "      <td>0.019090</td>\n",
       "      <td>0.010904</td>\n",
       "      <td>0.097209</td>\n",
       "      <td>0.025498</td>\n",
       "      <td>0.008035</td>\n",
       "      <td>0.012667</td>\n",
       "      <td>0.020942</td>\n",
       "      <td>0.010476</td>\n",
       "      <td>0.011537</td>\n",
       "    </tr>\n",
       "    <tr>\n",
       "      <th>2</th>\n",
       "      <td>15602</td>\n",
       "      <td>Grumpier Old Men</td>\n",
       "      <td>[Romance, Comedy]</td>\n",
       "      <td>A family wedding reignites the ancient feud be...</td>\n",
       "      <td>/6ksm1sjKMFLbO7UY2i6G1ju9SML.jpg</td>\n",
       "      <td>family wedding reignites ancient feud next-doo...</td>\n",
       "      <td>[0, 1, 0, 0, 0, 1, 0, 0, 0, 0, 0, 0, 0, 0, 0, ...</td>\n",
       "      <td>0.006236</td>\n",
       "      <td>0.996229</td>\n",
       "      <td>0.026126</td>\n",
       "      <td>...</td>\n",
       "      <td>0.010073</td>\n",
       "      <td>0.007590</td>\n",
       "      <td>0.004417</td>\n",
       "      <td>0.015397</td>\n",
       "      <td>0.016571</td>\n",
       "      <td>0.006225</td>\n",
       "      <td>0.017058</td>\n",
       "      <td>0.053122</td>\n",
       "      <td>0.006553</td>\n",
       "      <td>0.010320</td>\n",
       "    </tr>\n",
       "    <tr>\n",
       "      <th>3</th>\n",
       "      <td>31357</td>\n",
       "      <td>Waiting to Exhale</td>\n",
       "      <td>[Comedy, Drama, Romance]</td>\n",
       "      <td>Cheated on, mistreated and stepped on, the wom...</td>\n",
       "      <td>/16XOMpEaLWkrcPqSQqhTmeJuqQl.jpg</td>\n",
       "      <td>cheated mistreated stepped women holding breat...</td>\n",
       "      <td>[0, 1, 0, 0, 0, 1, 1, 0, 0, 0, 0, 0, 0, 0, 0, ...</td>\n",
       "      <td>0.001802</td>\n",
       "      <td>0.884559</td>\n",
       "      <td>0.011720</td>\n",
       "      <td>...</td>\n",
       "      <td>0.007475</td>\n",
       "      <td>0.001780</td>\n",
       "      <td>0.005685</td>\n",
       "      <td>0.004287</td>\n",
       "      <td>0.009510</td>\n",
       "      <td>0.006064</td>\n",
       "      <td>0.011880</td>\n",
       "      <td>0.013356</td>\n",
       "      <td>0.001498</td>\n",
       "      <td>0.002335</td>\n",
       "    </tr>\n",
       "    <tr>\n",
       "      <th>4</th>\n",
       "      <td>11862</td>\n",
       "      <td>Father of the Bride Part II</td>\n",
       "      <td>[Comedy]</td>\n",
       "      <td>Just when George Banks has recovered from his ...</td>\n",
       "      <td>/e64sOI48hQXyru7naBFyssKFxVd.jpg</td>\n",
       "      <td>george banks recovered daughter wedding receiv...</td>\n",
       "      <td>[0, 1, 0, 0, 0, 0, 0, 0, 0, 0, 0, 0, 0, 0, 0, ...</td>\n",
       "      <td>0.009380</td>\n",
       "      <td>0.995485</td>\n",
       "      <td>0.144746</td>\n",
       "      <td>...</td>\n",
       "      <td>0.009028</td>\n",
       "      <td>0.001771</td>\n",
       "      <td>0.001669</td>\n",
       "      <td>0.005646</td>\n",
       "      <td>0.004504</td>\n",
       "      <td>0.001488</td>\n",
       "      <td>0.003681</td>\n",
       "      <td>0.007270</td>\n",
       "      <td>0.002216</td>\n",
       "      <td>0.002723</td>\n",
       "    </tr>\n",
       "  </tbody>\n",
       "</table>\n",
       "<p>5 rows × 26 columns</p>\n",
       "</div>"
      ],
      "text/plain": [
       "      id                        title                        genres  \\\n",
       "0    862                    Toy Story   [Animation, Comedy, Family]   \n",
       "1   8844                      Jumanji  [Adventure, Fantasy, Family]   \n",
       "2  15602             Grumpier Old Men             [Romance, Comedy]   \n",
       "3  31357            Waiting to Exhale      [Comedy, Drama, Romance]   \n",
       "4  11862  Father of the Bride Part II                      [Comedy]   \n",
       "\n",
       "                                            overview  \\\n",
       "0  Led by Woody, Andy's toys live happily in his ...   \n",
       "1  When siblings Judy and Peter discover an encha...   \n",
       "2  A family wedding reignites the ancient feud be...   \n",
       "3  Cheated on, mistreated and stepped on, the wom...   \n",
       "4  Just when George Banks has recovered from his ...   \n",
       "\n",
       "                        poster_path  \\\n",
       "0  /rhIRbceoE9lR4veEXuwCC2wARtG.jpg   \n",
       "1  /vzmL6fP7aPKNKPRTFnZmiUfciyV.jpg   \n",
       "2  /6ksm1sjKMFLbO7UY2i6G1ju9SML.jpg   \n",
       "3  /16XOMpEaLWkrcPqSQqhTmeJuqQl.jpg   \n",
       "4  /e64sOI48hQXyru7naBFyssKFxVd.jpg   \n",
       "\n",
       "                                                tags  \\\n",
       "0  led woody andy toys live happily room andy bir...   \n",
       "1  siblings judy peter discover enchanted board g...   \n",
       "2  family wedding reignites ancient feud next-doo...   \n",
       "3  cheated mistreated stepped women holding breat...   \n",
       "4  george banks recovered daughter wedding receiv...   \n",
       "\n",
       "                                      genre_cat_list  Animation    Comedy  \\\n",
       "0  [1, 1, 1, 0, 0, 0, 0, 0, 0, 0, 0, 0, 0, 0, 0, ...   0.621729  0.879088   \n",
       "1  [0, 0, 1, 1, 1, 0, 0, 0, 0, 0, 0, 0, 0, 0, 0, ...   0.621093  0.051024   \n",
       "2  [0, 1, 0, 0, 0, 1, 0, 0, 0, 0, 0, 0, 0, 0, 0, ...   0.006236  0.996229   \n",
       "3  [0, 1, 0, 0, 0, 1, 1, 0, 0, 0, 0, 0, 0, 0, 0, ...   0.001802  0.884559   \n",
       "4  [0, 1, 0, 0, 0, 0, 0, 0, 0, 0, 0, 0, 0, 0, 0, ...   0.009380  0.995485   \n",
       "\n",
       "     Family  ...  Thriller    Horror   History  ScienceFiction   Mystery  \\\n",
       "0  0.968562  ...  0.006039  0.010728  0.011638        0.058808  0.009958   \n",
       "1  0.929004  ...  0.029687  0.019090  0.010904        0.097209  0.025498   \n",
       "2  0.026126  ...  0.010073  0.007590  0.004417        0.015397  0.016571   \n",
       "3  0.011720  ...  0.007475  0.001780  0.005685        0.004287  0.009510   \n",
       "4  0.144746  ...  0.009028  0.001771  0.001669        0.005646  0.004504   \n",
       "\n",
       "        War   Foreign     Music  Documentary   Western  \n",
       "0  0.006109  0.017491  0.056413     0.024555  0.010605  \n",
       "1  0.008035  0.012667  0.020942     0.010476  0.011537  \n",
       "2  0.006225  0.017058  0.053122     0.006553  0.010320  \n",
       "3  0.006064  0.011880  0.013356     0.001498  0.002335  \n",
       "4  0.001488  0.003681  0.007270     0.002216  0.002723  \n",
       "\n",
       "[5 rows x 26 columns]"
      ]
     },
     "execution_count": 353,
     "metadata": {},
     "output_type": "execute_result"
    }
   ],
   "source": [
    "movies_df.head()"
   ]
  },
  {
   "cell_type": "code",
   "execution_count": 423,
   "metadata": {},
   "outputs": [],
   "source": [
    "def get_similar_genre_movies(genres_list):\n",
    "    movies_df['calculated'] = movies_df[genres_list[0]] + movies_df[genres_list[1]]\n",
    "    movies_list = (movies_df.sort_values(by='calculated', ascending=False).head(10))\n",
    "    movies_df.drop('calculated', axis=1, inplace=True)\n",
    "    return movies_list"
   ]
  },
  {
   "cell_type": "code",
   "execution_count": 425,
   "metadata": {},
   "outputs": [
    {
     "data": {
      "text/html": [
       "<div>\n",
       "<style scoped>\n",
       "    .dataframe tbody tr th:only-of-type {\n",
       "        vertical-align: middle;\n",
       "    }\n",
       "\n",
       "    .dataframe tbody tr th {\n",
       "        vertical-align: top;\n",
       "    }\n",
       "\n",
       "    .dataframe thead th {\n",
       "        text-align: right;\n",
       "    }\n",
       "</style>\n",
       "<table border=\"1\" class=\"dataframe\">\n",
       "  <thead>\n",
       "    <tr style=\"text-align: right;\">\n",
       "      <th></th>\n",
       "      <th>id</th>\n",
       "      <th>title</th>\n",
       "      <th>genres</th>\n",
       "      <th>overview</th>\n",
       "      <th>poster_path</th>\n",
       "      <th>tags</th>\n",
       "      <th>genre_cat_list</th>\n",
       "      <th>Animation</th>\n",
       "      <th>Comedy</th>\n",
       "      <th>Family</th>\n",
       "      <th>...</th>\n",
       "      <th>Horror</th>\n",
       "      <th>History</th>\n",
       "      <th>ScienceFiction</th>\n",
       "      <th>Mystery</th>\n",
       "      <th>War</th>\n",
       "      <th>Foreign</th>\n",
       "      <th>Music</th>\n",
       "      <th>Documentary</th>\n",
       "      <th>Western</th>\n",
       "      <th>calculated</th>\n",
       "    </tr>\n",
       "  </thead>\n",
       "  <tbody>\n",
       "    <tr>\n",
       "      <th>7462</th>\n",
       "      <td>28355</td>\n",
       "      <td>Case 39</td>\n",
       "      <td>[Horror, Mystery, Thriller]</td>\n",
       "      <td>In her many years as a social worker, Emily Je...</td>\n",
       "      <td>/xSyj4F1UVtAXhqSGpNCZRaBsKAJ.jpg</td>\n",
       "      <td>many years social worker emily jenkins believe...</td>\n",
       "      <td>[0, 0, 0, 0, 0, 0, 0, 0, 0, 1, 1, 0, 0, 1, 0, ...</td>\n",
       "      <td>0.013091</td>\n",
       "      <td>0.011754</td>\n",
       "      <td>0.006618</td>\n",
       "      <td>...</td>\n",
       "      <td>0.951735</td>\n",
       "      <td>0.007912</td>\n",
       "      <td>0.091432</td>\n",
       "      <td>0.605933</td>\n",
       "      <td>0.007473</td>\n",
       "      <td>0.011623</td>\n",
       "      <td>0.008065</td>\n",
       "      <td>0.019574</td>\n",
       "      <td>0.011663</td>\n",
       "      <td>1.909792</td>\n",
       "    </tr>\n",
       "    <tr>\n",
       "      <th>7125</th>\n",
       "      <td>1977</td>\n",
       "      <td>The Grudge 3</td>\n",
       "      <td>[Mystery, Horror, Thriller]</td>\n",
       "      <td>Jake, the sole survivor of The Grudge 2 massac...</td>\n",
       "      <td>/swFCNfNo6hgXygRJ7l1Y2aYKKky.jpg</td>\n",
       "      <td>jake sole survivor grudge 2 massacre tortured ...</td>\n",
       "      <td>[0, 0, 0, 0, 0, 0, 0, 0, 0, 1, 1, 0, 0, 1, 0, ...</td>\n",
       "      <td>0.012410</td>\n",
       "      <td>0.006254</td>\n",
       "      <td>0.005388</td>\n",
       "      <td>...</td>\n",
       "      <td>0.928228</td>\n",
       "      <td>0.013559</td>\n",
       "      <td>0.079112</td>\n",
       "      <td>0.746017</td>\n",
       "      <td>0.014477</td>\n",
       "      <td>0.017278</td>\n",
       "      <td>0.010276</td>\n",
       "      <td>0.026302</td>\n",
       "      <td>0.015860</td>\n",
       "      <td>1.895187</td>\n",
       "    </tr>\n",
       "    <tr>\n",
       "      <th>4239</th>\n",
       "      <td>12590</td>\n",
       "      <td>Below</td>\n",
       "      <td>[Thriller, Horror, Mystery]</td>\n",
       "      <td>In the dark silence of the sea during World Wa...</td>\n",
       "      <td>/5N0yv9QVvpp25JAlC5x1DA7raxr.jpg</td>\n",
       "      <td>dark silence sea world war ii submarine u.s.s ...</td>\n",
       "      <td>[0, 0, 0, 0, 0, 0, 0, 0, 0, 1, 1, 0, 0, 1, 0, ...</td>\n",
       "      <td>0.015817</td>\n",
       "      <td>0.008428</td>\n",
       "      <td>0.006501</td>\n",
       "      <td>...</td>\n",
       "      <td>0.923976</td>\n",
       "      <td>0.012537</td>\n",
       "      <td>0.148574</td>\n",
       "      <td>0.744188</td>\n",
       "      <td>0.011963</td>\n",
       "      <td>0.014830</td>\n",
       "      <td>0.011911</td>\n",
       "      <td>0.025302</td>\n",
       "      <td>0.016396</td>\n",
       "      <td>1.889515</td>\n",
       "    </tr>\n",
       "    <tr>\n",
       "      <th>3376</th>\n",
       "      <td>12484</td>\n",
       "      <td>The Forsaken</td>\n",
       "      <td>[Action, Adventure, Horror, Thriller]</td>\n",
       "      <td>A young man is in a race against time as he se...</td>\n",
       "      <td>/hKwscHAZKrjeOSF7Bvksejpt26m.jpg</td>\n",
       "      <td>young man race time searches cure becoming inf...</td>\n",
       "      <td>[0, 0, 0, 1, 0, 0, 0, 1, 0, 1, 1, 0, 0, 0, 0, ...</td>\n",
       "      <td>0.036349</td>\n",
       "      <td>0.018162</td>\n",
       "      <td>0.007180</td>\n",
       "      <td>...</td>\n",
       "      <td>0.952607</td>\n",
       "      <td>0.011662</td>\n",
       "      <td>0.594517</td>\n",
       "      <td>0.171150</td>\n",
       "      <td>0.021292</td>\n",
       "      <td>0.015408</td>\n",
       "      <td>0.006496</td>\n",
       "      <td>0.019671</td>\n",
       "      <td>0.018718</td>\n",
       "      <td>1.885292</td>\n",
       "    </tr>\n",
       "    <tr>\n",
       "      <th>2272</th>\n",
       "      <td>23761</td>\n",
       "      <td>Alice Sweet Alice</td>\n",
       "      <td>[Horror, Mystery, Thriller]</td>\n",
       "      <td>Alice is a withdrawn 12-year-old who lives wit...</td>\n",
       "      <td>/scjfMHHjZRKkmhoqPtNJmMfpcs4.jpg</td>\n",
       "      <td>alice withdrawn 12-year-old lives mother young...</td>\n",
       "      <td>[0, 0, 0, 0, 0, 0, 0, 0, 0, 1, 1, 0, 0, 1, 0, ...</td>\n",
       "      <td>0.012242</td>\n",
       "      <td>0.008606</td>\n",
       "      <td>0.007153</td>\n",
       "      <td>...</td>\n",
       "      <td>0.941647</td>\n",
       "      <td>0.011812</td>\n",
       "      <td>0.072551</td>\n",
       "      <td>0.699838</td>\n",
       "      <td>0.008336</td>\n",
       "      <td>0.014232</td>\n",
       "      <td>0.011013</td>\n",
       "      <td>0.025731</td>\n",
       "      <td>0.012762</td>\n",
       "      <td>1.884899</td>\n",
       "    </tr>\n",
       "    <tr>\n",
       "      <th>4064</th>\n",
       "      <td>26725</td>\n",
       "      <td>Nomads</td>\n",
       "      <td>[Thriller, Horror, Mystery]</td>\n",
       "      <td>French anthropologist Jean-Charles Pommier and...</td>\n",
       "      <td>/mRWUTfecqnLMAQhAe7b1ikMPCER.jpg</td>\n",
       "      <td>french anthropologist jean-charles pommier wif...</td>\n",
       "      <td>[0, 0, 0, 0, 0, 0, 0, 0, 0, 1, 1, 0, 0, 1, 0, ...</td>\n",
       "      <td>0.013582</td>\n",
       "      <td>0.021943</td>\n",
       "      <td>0.007278</td>\n",
       "      <td>...</td>\n",
       "      <td>0.956649</td>\n",
       "      <td>0.007350</td>\n",
       "      <td>0.175299</td>\n",
       "      <td>0.600617</td>\n",
       "      <td>0.006880</td>\n",
       "      <td>0.011716</td>\n",
       "      <td>0.013070</td>\n",
       "      <td>0.025445</td>\n",
       "      <td>0.012776</td>\n",
       "      <td>1.884715</td>\n",
       "    </tr>\n",
       "    <tr>\n",
       "      <th>1531</th>\n",
       "      <td>10225</td>\n",
       "      <td>Friday the 13th Part VI: Jason Lives</td>\n",
       "      <td>[Horror, Mystery, Thriller]</td>\n",
       "      <td>As a child, Tommy killed mass-murderer Jason. ...</td>\n",
       "      <td>/le636yjPeWkC74nPDIZiQBH1CVt.jpg</td>\n",
       "      <td>child tommy killed mass-murderer jason . years...</td>\n",
       "      <td>[0, 0, 0, 0, 0, 0, 0, 0, 0, 1, 1, 0, 0, 1, 0, ...</td>\n",
       "      <td>0.008602</td>\n",
       "      <td>0.011068</td>\n",
       "      <td>0.004178</td>\n",
       "      <td>...</td>\n",
       "      <td>0.917811</td>\n",
       "      <td>0.008632</td>\n",
       "      <td>0.080117</td>\n",
       "      <td>0.663500</td>\n",
       "      <td>0.008117</td>\n",
       "      <td>0.011606</td>\n",
       "      <td>0.006545</td>\n",
       "      <td>0.016485</td>\n",
       "      <td>0.007893</td>\n",
       "      <td>1.882430</td>\n",
       "    </tr>\n",
       "    <tr>\n",
       "      <th>1086</th>\n",
       "      <td>794</td>\n",
       "      <td>The Omen</td>\n",
       "      <td>[Horror, Thriller]</td>\n",
       "      <td>Immediately after their miscarriage, the US di...</td>\n",
       "      <td>/uY14zS4Sm2DdvFXeczFKgLgkQUP.jpg</td>\n",
       "      <td>immediately miscarriage us diplomat robert tho...</td>\n",
       "      <td>[0, 0, 0, 0, 0, 0, 0, 0, 0, 1, 1, 0, 0, 0, 0, ...</td>\n",
       "      <td>0.008680</td>\n",
       "      <td>0.012017</td>\n",
       "      <td>0.003465</td>\n",
       "      <td>...</td>\n",
       "      <td>0.954271</td>\n",
       "      <td>0.009507</td>\n",
       "      <td>0.046312</td>\n",
       "      <td>0.360862</td>\n",
       "      <td>0.008632</td>\n",
       "      <td>0.010273</td>\n",
       "      <td>0.006128</td>\n",
       "      <td>0.016503</td>\n",
       "      <td>0.009290</td>\n",
       "      <td>1.880728</td>\n",
       "    </tr>\n",
       "    <tr>\n",
       "      <th>7617</th>\n",
       "      <td>41215</td>\n",
       "      <td>Black Death</td>\n",
       "      <td>[Drama, Horror, Action, Thriller, Mystery]</td>\n",
       "      <td>As the plague decimates medieval Europe, rumor...</td>\n",
       "      <td>/gXRERDpyT9s3m2yk6wNmrTWbZfG.jpg</td>\n",
       "      <td>plague decimates medieval europe rumors circul...</td>\n",
       "      <td>[0, 0, 0, 0, 0, 0, 1, 1, 0, 1, 1, 0, 0, 1, 0, ...</td>\n",
       "      <td>0.024421</td>\n",
       "      <td>0.003346</td>\n",
       "      <td>0.006978</td>\n",
       "      <td>...</td>\n",
       "      <td>0.923888</td>\n",
       "      <td>0.043109</td>\n",
       "      <td>0.097536</td>\n",
       "      <td>0.706329</td>\n",
       "      <td>0.043224</td>\n",
       "      <td>0.029732</td>\n",
       "      <td>0.012124</td>\n",
       "      <td>0.017815</td>\n",
       "      <td>0.046312</td>\n",
       "      <td>1.879824</td>\n",
       "    </tr>\n",
       "    <tr>\n",
       "      <th>6483</th>\n",
       "      <td>9708</td>\n",
       "      <td>The Wicker Man</td>\n",
       "      <td>[Mystery, Thriller, Horror]</td>\n",
       "      <td>A sheriff investigating the disappearance of a...</td>\n",
       "      <td>/aeQ65vYvOCRmeO0uaVnjHOiDrXZ.jpg</td>\n",
       "      <td>sheriff investigating disappearance young girl...</td>\n",
       "      <td>[0, 0, 0, 0, 0, 0, 0, 0, 0, 1, 1, 0, 0, 1, 0, ...</td>\n",
       "      <td>0.013911</td>\n",
       "      <td>0.012557</td>\n",
       "      <td>0.006678</td>\n",
       "      <td>...</td>\n",
       "      <td>0.926044</td>\n",
       "      <td>0.013499</td>\n",
       "      <td>0.097540</td>\n",
       "      <td>0.845527</td>\n",
       "      <td>0.010503</td>\n",
       "      <td>0.020881</td>\n",
       "      <td>0.016054</td>\n",
       "      <td>0.025858</td>\n",
       "      <td>0.030354</td>\n",
       "      <td>1.879554</td>\n",
       "    </tr>\n",
       "  </tbody>\n",
       "</table>\n",
       "<p>10 rows × 27 columns</p>\n",
       "</div>"
      ],
      "text/plain": [
       "         id                                 title  \\\n",
       "7462  28355                               Case 39   \n",
       "7125   1977                          The Grudge 3   \n",
       "4239  12590                                 Below   \n",
       "3376  12484                          The Forsaken   \n",
       "2272  23761                     Alice Sweet Alice   \n",
       "4064  26725                                Nomads   \n",
       "1531  10225  Friday the 13th Part VI: Jason Lives   \n",
       "1086    794                              The Omen   \n",
       "7617  41215                           Black Death   \n",
       "6483   9708                        The Wicker Man   \n",
       "\n",
       "                                          genres  \\\n",
       "7462                 [Horror, Mystery, Thriller]   \n",
       "7125                 [Mystery, Horror, Thriller]   \n",
       "4239                 [Thriller, Horror, Mystery]   \n",
       "3376       [Action, Adventure, Horror, Thriller]   \n",
       "2272                 [Horror, Mystery, Thriller]   \n",
       "4064                 [Thriller, Horror, Mystery]   \n",
       "1531                 [Horror, Mystery, Thriller]   \n",
       "1086                          [Horror, Thriller]   \n",
       "7617  [Drama, Horror, Action, Thriller, Mystery]   \n",
       "6483                 [Mystery, Thriller, Horror]   \n",
       "\n",
       "                                               overview  \\\n",
       "7462  In her many years as a social worker, Emily Je...   \n",
       "7125  Jake, the sole survivor of The Grudge 2 massac...   \n",
       "4239  In the dark silence of the sea during World Wa...   \n",
       "3376  A young man is in a race against time as he se...   \n",
       "2272  Alice is a withdrawn 12-year-old who lives wit...   \n",
       "4064  French anthropologist Jean-Charles Pommier and...   \n",
       "1531  As a child, Tommy killed mass-murderer Jason. ...   \n",
       "1086  Immediately after their miscarriage, the US di...   \n",
       "7617  As the plague decimates medieval Europe, rumor...   \n",
       "6483  A sheriff investigating the disappearance of a...   \n",
       "\n",
       "                           poster_path  \\\n",
       "7462  /xSyj4F1UVtAXhqSGpNCZRaBsKAJ.jpg   \n",
       "7125  /swFCNfNo6hgXygRJ7l1Y2aYKKky.jpg   \n",
       "4239  /5N0yv9QVvpp25JAlC5x1DA7raxr.jpg   \n",
       "3376  /hKwscHAZKrjeOSF7Bvksejpt26m.jpg   \n",
       "2272  /scjfMHHjZRKkmhoqPtNJmMfpcs4.jpg   \n",
       "4064  /mRWUTfecqnLMAQhAe7b1ikMPCER.jpg   \n",
       "1531  /le636yjPeWkC74nPDIZiQBH1CVt.jpg   \n",
       "1086  /uY14zS4Sm2DdvFXeczFKgLgkQUP.jpg   \n",
       "7617  /gXRERDpyT9s3m2yk6wNmrTWbZfG.jpg   \n",
       "6483  /aeQ65vYvOCRmeO0uaVnjHOiDrXZ.jpg   \n",
       "\n",
       "                                                   tags  \\\n",
       "7462  many years social worker emily jenkins believe...   \n",
       "7125  jake sole survivor grudge 2 massacre tortured ...   \n",
       "4239  dark silence sea world war ii submarine u.s.s ...   \n",
       "3376  young man race time searches cure becoming inf...   \n",
       "2272  alice withdrawn 12-year-old lives mother young...   \n",
       "4064  french anthropologist jean-charles pommier wif...   \n",
       "1531  child tommy killed mass-murderer jason . years...   \n",
       "1086  immediately miscarriage us diplomat robert tho...   \n",
       "7617  plague decimates medieval europe rumors circul...   \n",
       "6483  sheriff investigating disappearance young girl...   \n",
       "\n",
       "                                         genre_cat_list  Animation    Comedy  \\\n",
       "7462  [0, 0, 0, 0, 0, 0, 0, 0, 0, 1, 1, 0, 0, 1, 0, ...   0.013091  0.011754   \n",
       "7125  [0, 0, 0, 0, 0, 0, 0, 0, 0, 1, 1, 0, 0, 1, 0, ...   0.012410  0.006254   \n",
       "4239  [0, 0, 0, 0, 0, 0, 0, 0, 0, 1, 1, 0, 0, 1, 0, ...   0.015817  0.008428   \n",
       "3376  [0, 0, 0, 1, 0, 0, 0, 1, 0, 1, 1, 0, 0, 0, 0, ...   0.036349  0.018162   \n",
       "2272  [0, 0, 0, 0, 0, 0, 0, 0, 0, 1, 1, 0, 0, 1, 0, ...   0.012242  0.008606   \n",
       "4064  [0, 0, 0, 0, 0, 0, 0, 0, 0, 1, 1, 0, 0, 1, 0, ...   0.013582  0.021943   \n",
       "1531  [0, 0, 0, 0, 0, 0, 0, 0, 0, 1, 1, 0, 0, 1, 0, ...   0.008602  0.011068   \n",
       "1086  [0, 0, 0, 0, 0, 0, 0, 0, 0, 1, 1, 0, 0, 0, 0, ...   0.008680  0.012017   \n",
       "7617  [0, 0, 0, 0, 0, 0, 1, 1, 0, 1, 1, 0, 0, 1, 0, ...   0.024421  0.003346   \n",
       "6483  [0, 0, 0, 0, 0, 0, 0, 0, 0, 1, 1, 0, 0, 1, 0, ...   0.013911  0.012557   \n",
       "\n",
       "        Family  ...    Horror   History  ScienceFiction   Mystery       War  \\\n",
       "7462  0.006618  ...  0.951735  0.007912        0.091432  0.605933  0.007473   \n",
       "7125  0.005388  ...  0.928228  0.013559        0.079112  0.746017  0.014477   \n",
       "4239  0.006501  ...  0.923976  0.012537        0.148574  0.744188  0.011963   \n",
       "3376  0.007180  ...  0.952607  0.011662        0.594517  0.171150  0.021292   \n",
       "2272  0.007153  ...  0.941647  0.011812        0.072551  0.699838  0.008336   \n",
       "4064  0.007278  ...  0.956649  0.007350        0.175299  0.600617  0.006880   \n",
       "1531  0.004178  ...  0.917811  0.008632        0.080117  0.663500  0.008117   \n",
       "1086  0.003465  ...  0.954271  0.009507        0.046312  0.360862  0.008632   \n",
       "7617  0.006978  ...  0.923888  0.043109        0.097536  0.706329  0.043224   \n",
       "6483  0.006678  ...  0.926044  0.013499        0.097540  0.845527  0.010503   \n",
       "\n",
       "       Foreign     Music  Documentary   Western  calculated  \n",
       "7462  0.011623  0.008065     0.019574  0.011663    1.909792  \n",
       "7125  0.017278  0.010276     0.026302  0.015860    1.895187  \n",
       "4239  0.014830  0.011911     0.025302  0.016396    1.889515  \n",
       "3376  0.015408  0.006496     0.019671  0.018718    1.885292  \n",
       "2272  0.014232  0.011013     0.025731  0.012762    1.884899  \n",
       "4064  0.011716  0.013070     0.025445  0.012776    1.884715  \n",
       "1531  0.011606  0.006545     0.016485  0.007893    1.882430  \n",
       "1086  0.010273  0.006128     0.016503  0.009290    1.880728  \n",
       "7617  0.029732  0.012124     0.017815  0.046312    1.879824  \n",
       "6483  0.020881  0.016054     0.025858  0.030354    1.879554  \n",
       "\n",
       "[10 rows x 27 columns]"
      ]
     },
     "execution_count": 425,
     "metadata": {},
     "output_type": "execute_result"
    }
   ],
   "source": [
    "liked_genres = ['Horror', 'Thriller']\n",
    "get_similar_genre_movies(liked_genres)"
   ]
  }
 ],
 "metadata": {
  "kernelspec": {
   "display_name": "Python 3 (ipykernel)",
   "language": "python",
   "name": "python3"
  },
  "language_info": {
   "codemirror_mode": {
    "name": "ipython",
    "version": 3
   },
   "file_extension": ".py",
   "mimetype": "text/x-python",
   "name": "python",
   "nbconvert_exporter": "python",
   "pygments_lexer": "ipython3",
   "version": "3.12.4"
  }
 },
 "nbformat": 4,
 "nbformat_minor": 4
}
